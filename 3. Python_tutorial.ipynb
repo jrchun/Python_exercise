{
 "cells": [
  {
   "cell_type": "markdown",
   "metadata": {},
   "source": [
    "# 3. 2. 파이썬을 계산기로 사용하기"
   ]
  },
  {
   "cell_type": "markdown",
   "metadata": {},
   "source": [
    "## 정수 연산"
   ]
  },
  {
   "cell_type": "code",
   "execution_count": 2,
   "metadata": {},
   "outputs": [
    {
     "data": {
      "text/plain": [
       "2"
      ]
     },
     "execution_count": 2,
     "metadata": {},
     "output_type": "execute_result"
    }
   ],
   "source": [
    "1 + 1"
   ]
  },
  {
   "cell_type": "code",
   "execution_count": 5,
   "metadata": {},
   "outputs": [
    {
     "data": {
      "text/plain": [
       "4"
      ]
     },
     "execution_count": 5,
     "metadata": {},
     "output_type": "execute_result"
    }
   ],
   "source": [
    "1+  3 #띄어쓰기도 가능"
   ]
  },
  {
   "cell_type": "code",
   "execution_count": 6,
   "metadata": {},
   "outputs": [
    {
     "data": {
      "text/plain": [
       "2"
      ]
     },
     "execution_count": 6,
     "metadata": {},
     "output_type": "execute_result"
    }
   ],
   "source": [
    "8 // 3 #몫"
   ]
  },
  {
   "cell_type": "code",
   "execution_count": 7,
   "metadata": {},
   "outputs": [
    {
     "data": {
      "text/plain": [
       "2"
      ]
     },
     "execution_count": 7,
     "metadata": {},
     "output_type": "execute_result"
    }
   ],
   "source": [
    "8 % 3 #나머지"
   ]
  },
  {
   "cell_type": "code",
   "execution_count": 9,
   "metadata": {},
   "outputs": [
    {
     "data": {
      "text/plain": [
       "16"
      ]
     },
     "execution_count": 9,
     "metadata": {},
     "output_type": "execute_result"
    }
   ],
   "source": [
    "2 ** 4 #제곱"
   ]
  },
  {
   "cell_type": "markdown",
   "metadata": {},
   "source": [
    "### Exercise 3.2.1\n",
    "- 파이썬으로 다음 연산을 진행한다."
   ]
  },
  {
   "cell_type": "code",
   "execution_count": 2,
   "metadata": {},
   "outputs": [
    {
     "data": {
      "text/plain": [
       "4.0"
      ]
     },
     "execution_count": 2,
     "metadata": {},
     "output_type": "execute_result"
    }
   ],
   "source": [
    "# 3 * 2 - 8 / 4\n",
    "3 * 2 - 8 / 4"
   ]
  },
  {
   "cell_type": "code",
   "execution_count": 3,
   "metadata": {},
   "outputs": [
    {
     "data": {
      "text/plain": [
       "67.0"
      ]
     },
     "execution_count": 3,
     "metadata": {},
     "output_type": "execute_result"
    }
   ],
   "source": [
    "# 25 * 6 / 3 + 17\n",
    "25 * 6 / 3 + 17"
   ]
  },
  {
   "cell_type": "code",
   "execution_count": 4,
   "metadata": {},
   "outputs": [
    {
     "data": {
      "text/plain": [
       "38998.0"
      ]
     },
     "execution_count": 4,
     "metadata": {},
     "output_type": "execute_result"
    }
   ],
   "source": [
    "# 39021 - 276920 / 12040\n",
    "39021 - 276920 / 12040"
   ]
  },
  {
   "cell_type": "code",
   "execution_count": 5,
   "metadata": {},
   "outputs": [
    {
     "data": {
      "text/plain": [
       "60"
      ]
     },
     "execution_count": 5,
     "metadata": {},
     "output_type": "execute_result"
    }
   ],
   "source": [
    "# 2^6 - 10 % 6\n",
    "(2**6) - (10%6)"
   ]
  },
  {
   "cell_type": "markdown",
   "metadata": {},
   "source": [
    "## 연산 순서와 괄호"
   ]
  },
  {
   "cell_type": "markdown",
   "metadata": {},
   "source": [
    "### Exercise 3.2.2\n",
    "- 파이썬으로 다음 연산을 진행한다."
   ]
  },
  {
   "cell_type": "code",
   "execution_count": 7,
   "metadata": {},
   "outputs": [
    {
     "data": {
      "text/plain": [
       "-24"
      ]
     },
     "execution_count": 7,
     "metadata": {},
     "output_type": "execute_result"
    }
   ],
   "source": [
    "12 - (5*7+1)"
   ]
  },
  {
   "cell_type": "code",
   "execution_count": 8,
   "metadata": {},
   "outputs": [
    {
     "data": {
      "text/plain": [
       "75.0"
      ]
     },
     "execution_count": 8,
     "metadata": {},
     "output_type": "execute_result"
    }
   ],
   "source": [
    "5 * (8+(10-6/2))"
   ]
  },
  {
   "cell_type": "code",
   "execution_count": 9,
   "metadata": {},
   "outputs": [
    {
     "data": {
      "text/plain": [
       "28580.0"
      ]
     },
     "execution_count": 9,
     "metadata": {},
     "output_type": "execute_result"
    }
   ],
   "source": [
    "48320 - ((365-5*9)/16) * 987"
   ]
  },
  {
   "cell_type": "code",
   "execution_count": 10,
   "metadata": {},
   "outputs": [
    {
     "data": {
      "text/plain": [
       "16"
      ]
     },
     "execution_count": 10,
     "metadata": {},
     "output_type": "execute_result"
    }
   ],
   "source": [
    "(((3**4)-3*7)%5 + 4)**2"
   ]
  },
  {
   "cell_type": "markdown",
   "metadata": {},
   "source": [
    "## 부등식의 참과 거짓 계산"
   ]
  },
  {
   "cell_type": "markdown",
   "metadata": {},
   "source": [
    "파이썬에서는 참과 거짓을 계산한 뒤, TRUE/FALSE로 값을 반환한다."
   ]
  },
  {
   "cell_type": "code",
   "execution_count": 11,
   "metadata": {},
   "outputs": [
    {
     "data": {
      "text/plain": [
       "True"
      ]
     },
     "execution_count": 11,
     "metadata": {},
     "output_type": "execute_result"
    }
   ],
   "source": [
    "2 > 1"
   ]
  },
  {
   "cell_type": "code",
   "execution_count": 12,
   "metadata": {},
   "outputs": [
    {
     "data": {
      "text/plain": [
       "False"
      ]
     },
     "execution_count": 12,
     "metadata": {},
     "output_type": "execute_result"
    }
   ],
   "source": [
    "2 == 1"
   ]
  },
  {
   "cell_type": "markdown",
   "metadata": {},
   "source": [
    "### Exercise 3.2.3\n",
    "- 파이썬을 계산기로 사용하여 답이 True / False인 부등식을 만든다."
   ]
  },
  {
   "cell_type": "code",
   "execution_count": 15,
   "metadata": {},
   "outputs": [
    {
     "data": {
      "text/plain": [
       "True"
      ]
     },
     "execution_count": 15,
     "metadata": {},
     "output_type": "execute_result"
    }
   ],
   "source": [
    "2 > 1"
   ]
  },
  {
   "cell_type": "code",
   "execution_count": 18,
   "metadata": {},
   "outputs": [
    {
     "data": {
      "text/plain": [
       "False"
      ]
     },
     "execution_count": 18,
     "metadata": {},
     "output_type": "execute_result"
    }
   ],
   "source": [
    "2 < 1"
   ]
  },
  {
   "cell_type": "markdown",
   "metadata": {},
   "source": [
    "## 부울리언 대수 (And / Or 연산)"
   ]
  },
  {
   "cell_type": "code",
   "execution_count": 19,
   "metadata": {},
   "outputs": [
    {
     "data": {
      "text/plain": [
       "True"
      ]
     },
     "execution_count": 19,
     "metadata": {},
     "output_type": "execute_result"
    }
   ],
   "source": [
    "(2 > 0) & (2 < 3)"
   ]
  },
  {
   "cell_type": "code",
   "execution_count": 21,
   "metadata": {},
   "outputs": [
    {
     "data": {
      "text/plain": [
       "True"
      ]
     },
     "execution_count": 21,
     "metadata": {},
     "output_type": "execute_result"
    }
   ],
   "source": [
    "(2 > 2) | (2 < 3) #True가 선행함을 알 수 있다."
   ]
  },
  {
   "cell_type": "markdown",
   "metadata": {},
   "source": [
    "### Exercise 3.2.4\n",
    "- 다음 식의 값이 참인지 거짓인지 파이썬으로 확인한다."
   ]
  },
  {
   "cell_type": "code",
   "execution_count": 23,
   "metadata": {},
   "outputs": [
    {
     "data": {
      "text/plain": [
       "False"
      ]
     },
     "execution_count": 23,
     "metadata": {},
     "output_type": "execute_result"
    }
   ],
   "source": [
    "(5 <= 6) & (3 == 4)"
   ]
  },
  {
   "cell_type": "code",
   "execution_count": 25,
   "metadata": {},
   "outputs": [
    {
     "data": {
      "text/plain": [
       "True"
      ]
     },
     "execution_count": 25,
     "metadata": {},
     "output_type": "execute_result"
    }
   ],
   "source": [
    "(2 != 1) | (3 >= 4)"
   ]
  },
  {
   "cell_type": "code",
   "execution_count": 26,
   "metadata": {},
   "outputs": [
    {
     "data": {
      "text/plain": [
       "True"
      ]
     },
     "execution_count": 26,
     "metadata": {},
     "output_type": "execute_result"
    }
   ],
   "source": [
    "(5 <= 6) & ((0 == 0) | (3 < 4))"
   ]
  },
  {
   "cell_type": "markdown",
   "metadata": {},
   "source": [
    "## 변수 사용하기\n",
    "특정 값을 변수에 담아두었다가 사용한다.\n",
    "R과는 다르게 등호 기호만을 사용할 수 있으며, 좌변에는 할당할 변수를 둔다."
   ]
  },
  {
   "cell_type": "code",
   "execution_count": 27,
   "metadata": {},
   "outputs": [
    {
     "data": {
      "text/plain": [
       "6"
      ]
     },
     "execution_count": 27,
     "metadata": {},
     "output_type": "execute_result"
    }
   ],
   "source": [
    "a = 2\n",
    "b = 3\n",
    "a*b"
   ]
  },
  {
   "cell_type": "markdown",
   "metadata": {},
   "source": [
    "### Exercise 3.2.5\n",
    "- 변수들의 값을 바꾸어 가면서 수식을 계산해 보자."
   ]
  },
  {
   "cell_type": "code",
   "execution_count": 36,
   "metadata": {},
   "outputs": [
    {
     "data": {
      "text/plain": [
       "10"
      ]
     },
     "execution_count": 36,
     "metadata": {},
     "output_type": "execute_result"
    }
   ],
   "source": [
    "x = 2 ; y = 7 ; z = 10\n",
    "(2*x-1)**2 + 1"
   ]
  },
  {
   "cell_type": "code",
   "execution_count": 39,
   "metadata": {},
   "outputs": [
    {
     "data": {
      "text/plain": [
       "327680"
      ]
     },
     "execution_count": 39,
     "metadata": {},
     "output_type": "execute_result"
    }
   ],
   "source": [
    "(x**(2*y)) * (z + 10)"
   ]
  },
  {
   "cell_type": "markdown",
   "metadata": {},
   "source": [
    "# 파이썬으로 글자를 출력하기"
   ]
  },
  {
   "cell_type": "code",
   "execution_count": 40,
   "metadata": {},
   "outputs": [
    {
     "name": "stdout",
     "output_type": "stream",
     "text": [
      "Hello\n"
     ]
    }
   ],
   "source": [
    "print('Hello')"
   ]
  },
  {
   "cell_type": "code",
   "execution_count": 41,
   "metadata": {},
   "outputs": [
    {
     "name": "stdout",
     "output_type": "stream",
     "text": [
      "Good day!\n"
     ]
    }
   ],
   "source": [
    "print('Good day!')"
   ]
  },
  {
   "cell_type": "markdown",
   "metadata": {},
   "source": [
    "## 문자열 연산\n",
    "문자열도 숫자처럼 덧셈과 곱셈 연산을 할 수 있다."
   ]
  },
  {
   "cell_type": "code",
   "execution_count": 42,
   "metadata": {},
   "outputs": [
    {
     "name": "stdout",
     "output_type": "stream",
     "text": [
      "Hello, World!\n"
     ]
    }
   ],
   "source": [
    "print('Hello, ' + 'World!')"
   ]
  },
  {
   "cell_type": "code",
   "execution_count": 44,
   "metadata": {},
   "outputs": [
    {
     "name": "stdout",
     "output_type": "stream",
     "text": [
      "내 이름은 홍길동입니다.\n"
     ]
    }
   ],
   "source": [
    "print('내 이름은 ' + '홍길동' + '입니다.')"
   ]
  },
  {
   "cell_type": "code",
   "execution_count": 45,
   "metadata": {},
   "outputs": [
    {
     "name": "stdout",
     "output_type": "stream",
     "text": [
      "**********\n"
     ]
    }
   ],
   "source": [
    "print('*' * 10)"
   ]
  },
  {
   "cell_type": "markdown",
   "metadata": {},
   "source": [
    "## 숫자를 문자열로 바꾸기"
   ]
  },
  {
   "cell_type": "code",
   "execution_count": 46,
   "metadata": {},
   "outputs": [
    {
     "data": {
      "text/plain": [
       "'7'"
      ]
     },
     "execution_count": 46,
     "metadata": {},
     "output_type": "execute_result"
    }
   ],
   "source": [
    "str(7)"
   ]
  },
  {
   "cell_type": "code",
   "execution_count": 48,
   "metadata": {},
   "outputs": [
    {
     "name": "stdout",
     "output_type": "stream",
     "text": [
      "별표를 10번 출력합니다.\n",
      "**********\n"
     ]
    }
   ],
   "source": [
    "n = 10\n",
    "print('별표를 ' +str(n) + '번 출력합니다.')\n",
    "print('*' * n)"
   ]
  },
  {
   "cell_type": "markdown",
   "metadata": {},
   "source": [
    "## 한 줄 띄우기(line feed)"
   ]
  },
  {
   "cell_type": "code",
   "execution_count": 49,
   "metadata": {},
   "outputs": [
    {
     "name": "stdout",
     "output_type": "stream",
     "text": [
      "한 줄 쓰고\n",
      "그 다음 줄을 쓴다.\n"
     ]
    }
   ],
   "source": [
    "print('한 줄 쓰고\\n그 다음 줄을 쓴다.')"
   ]
  },
  {
   "cell_type": "markdown",
   "metadata": {},
   "source": [
    "## 줄을 바꾸지 않고 이어서 출력하기"
   ]
  },
  {
   "cell_type": "code",
   "execution_count": 51,
   "metadata": {},
   "outputs": [
    {
     "name": "stdout",
     "output_type": "stream",
     "text": [
      "한 줄 쓰고 이어서 쓴다.\n"
     ]
    }
   ],
   "source": [
    "print('한 줄 쓰고 ', end = '')\n",
    "print('이어서 쓴다.')"
   ]
  },
  {
   "cell_type": "markdown",
   "metadata": {},
   "source": [
    "## 문자열 값을 가지는 변수"
   ]
  },
  {
   "cell_type": "code",
   "execution_count": 52,
   "metadata": {},
   "outputs": [
    {
     "name": "stdout",
     "output_type": "stream",
     "text": [
      "내 이름은 홍길동입니다.\n"
     ]
    }
   ],
   "source": [
    "name = '홍길동'\n",
    "print('내 이름은 ' + name + '입니다.')"
   ]
  },
  {
   "cell_type": "code",
   "execution_count": 54,
   "metadata": {},
   "outputs": [
    {
     "name": "stdout",
     "output_type": "stream",
     "text": [
      "$ 기호를20번 출력합니다.\n",
      "$$$$$$$$$$$$$$$$$$$$\n"
     ]
    }
   ],
   "source": [
    "mark = '$'\n",
    "n = 20\n",
    "print(mark + ' 기호를' + str(n) + '번 출력합니다.')\n",
    "print(mark * n)"
   ]
  },
  {
   "cell_type": "markdown",
   "metadata": {},
   "source": [
    "## 따옴표를 출력하기\n",
    "문자열 내에 큰따옴표가 있어야 할때는 전체를 작은 따옴표로,  \n",
    "반대 상황에서는 반대로 사용하면 된다."
   ]
  },
  {
   "cell_type": "code",
   "execution_count": 55,
   "metadata": {},
   "outputs": [
    {
     "name": "stdout",
     "output_type": "stream",
     "text": [
      "둘리가 \"호이!\"하고 말했어요.\n"
     ]
    }
   ],
   "source": [
    "print('둘리가 \"호이!\"하고 말했어요.')"
   ]
  },
  {
   "cell_type": "code",
   "execution_count": 56,
   "metadata": {},
   "outputs": [
    {
     "name": "stdout",
     "output_type": "stream",
     "text": [
      "둘리가 '이제 어디로 가지?'하고 생각했어요.\n"
     ]
    }
   ],
   "source": [
    "print(\"둘리가 '이제 어디로 가지?'하고 생각했어요.\")"
   ]
  },
  {
   "cell_type": "markdown",
   "metadata": {},
   "source": [
    "## 여러 줄의 문자열 출력하기\n",
    "여러 줄의 문자를 출력 / 변수에 할당하려면 '''~''' & \"\"\"~\"\"\"을 사용."
   ]
  },
  {
   "cell_type": "code",
   "execution_count": 57,
   "metadata": {},
   "outputs": [
    {
     "name": "stdout",
     "output_type": "stream",
     "text": [
      "\n",
      "                        파이썬(영어: Python)은 1991년 프로그래머인 \n",
      "                        귀도 반 로섬(Guido van Rossum)이 발표한 고급 프로그래밍 언어로,\n",
      "                        플랫폼 독립적이며 인터프리터식, 객체지향적, 동적 타이핑(dynamically typed) \n",
      "                        대화형 언어이다. 파이썬이라는 이름은 귀도가 좋아하는 코미디 〈Monty Python's Flying \n",
      "                        Circus〉에서 따온 것이다.\n"
     ]
    }
   ],
   "source": [
    "multi_line_string = \"\"\"\n",
    "                        파이썬(영어: Python)은 1991년 프로그래머인 \n",
    "                        귀도 반 로섬(Guido van Rossum)이 발표한 고급 프로그래밍 언어로,\n",
    "                        플랫폼 독립적이며 인터프리터식, 객체지향적, 동적 타이핑(dynamically typed) \n",
    "                        대화형 언어이다. 파이썬이라는 이름은 귀도가 좋아하는 코미디 〈Monty Python's Flying \n",
    "                        Circus〉에서 따온 것이다.\"\"\"\n",
    "print(multi_line_string)"
   ]
  },
  {
   "cell_type": "markdown",
   "metadata": {},
   "source": [
    "### Exercise 3.2.6\n",
    "- 주어진 문장을 출력한다.  \n",
    "Beautiful is better than ugly.  \n",
    "Explicit is better than implicit.  \n",
    "Simple is better than complex.  \n",
    "Complex is better than complicated.  \n",
    "Flat is better than nested.  \n",
    "Sparse is better than dense.    "
   ]
  },
  {
   "cell_type": "code",
   "execution_count": 60,
   "metadata": {
    "scrolled": true
   },
   "outputs": [
    {
     "name": "stdout",
     "output_type": "stream",
     "text": [
      "Beautiful is better than ugly.\n",
      "Explicit is better than implicit.\n",
      "Simple is better than complex.\n",
      "Complex is better than complicated.\n",
      "Flat is better than nested.\n",
      "Sparse is better than dense.\n"
     ]
    }
   ],
   "source": [
    "solution1 = \"\"\"Beautiful is better than ugly.\n",
    "Explicit is better than implicit.\n",
    "Simple is better than complex.\n",
    "Complex is better than complicated.\n",
    "Flat is better than nested.\n",
    "Sparse is better than dense.\"\"\"\n",
    "print(solution1)"
   ]
  },
  {
   "cell_type": "code",
   "execution_count": 7,
   "metadata": {},
   "outputs": [
    {
     "name": "stdout",
     "output_type": "stream",
     "text": [
      "@@@@@@\n",
      "@    @\n",
      "@    @\n",
      "@    @\n",
      "@@@@@@\n"
     ]
    }
   ],
   "source": [
    "a = '@'\n",
    "b = 6\n",
    "\n",
    "print(a*b + '\\n' + (a + '    ' + a + '\\n')*3 + a*b)"
   ]
  },
  {
   "cell_type": "markdown",
   "metadata": {},
   "source": [
    "# 파이썬의 문자열 형식화\n",
    "파이썬에서는 복잡한 출력을 위한 문자열 형식화(string formatting)라는 것을 지원한다.  \n",
    "- % 기호를 사용한 방식  \n",
    "- format 메서드를 사용한 방식"
   ]
  },
  {
   "cell_type": "markdown",
   "metadata": {},
   "source": [
    "## % 기호를 사용한 문자열 형식화"
   ]
  },
  {
   "cell_type": "markdown",
   "metadata": {},
   "source": [
    "- %s : 문자열  \n",
    "- %d : 정수  \n",
    "- %f : 부동소수점 실수"
   ]
  },
  {
   "cell_type": "code",
   "execution_count": 10,
   "metadata": {},
   "outputs": [
    {
     "data": {
      "text/plain": [
       "'My name is Tom'"
      ]
     },
     "execution_count": 10,
     "metadata": {},
     "output_type": "execute_result"
    }
   ],
   "source": [
    "\"My name is %s\" % \"Tom\""
   ]
  },
  {
   "cell_type": "code",
   "execution_count": 11,
   "metadata": {},
   "outputs": [
    {
     "data": {
      "text/plain": [
       "'I am 12 years old'"
      ]
     },
     "execution_count": 11,
     "metadata": {},
     "output_type": "execute_result"
    }
   ],
   "source": [
    "\"I am %d years old\" %12"
   ]
  },
  {
   "cell_type": "code",
   "execution_count": 12,
   "metadata": {},
   "outputs": [
    {
     "data": {
      "text/plain": [
       "'3.141592 is the value of pi'"
      ]
     },
     "execution_count": 12,
     "metadata": {},
     "output_type": "execute_result"
    }
   ],
   "source": [
    "\"%f is the value of pi\" %3.141592"
   ]
  },
  {
   "cell_type": "code",
   "execution_count": 13,
   "metadata": {},
   "outputs": [
    {
     "data": {
      "text/plain": [
       "'2 times 3 is 6'"
      ]
     },
     "execution_count": 13,
     "metadata": {},
     "output_type": "execute_result"
    }
   ],
   "source": [
    "#여러개의 값을 문자열 안에 넣어야 한다면, %기호 뒤의 값을 소괄호로 감싼다.\n",
    "\"%d times %d is %d\" %(2, 3, 6)"
   ]
  },
  {
   "cell_type": "code",
   "execution_count": 15,
   "metadata": {},
   "outputs": [
    {
     "data": {
      "text/plain": [
       "\"Jane's score is 100\""
      ]
     },
     "execution_count": 15,
     "metadata": {},
     "output_type": "execute_result"
    }
   ],
   "source": [
    "#서로 다른 형식의 값도 가능하다.\n",
    "\"%s's score is %d\" %(\"Jane\", 100)"
   ]
  },
  {
   "cell_type": "markdown",
   "metadata": {},
   "source": [
    "### Exercise 3.2.7  \n",
    "1. name과 age라는 변수에 각각 이름과 나이를 넣고 다음과 같이 출력하라  \n",
    "-> Tom is 13 years old  \n",
    "2. 나눗셈을 할 두 숫자를 각각 a, b라는 변수에 넣고 다음과 같이 출력하는 코드를 만들어라.  \n",
    "-> 10 / 3 = 3.333"
   ]
  },
  {
   "cell_type": "code",
   "execution_count": 16,
   "metadata": {},
   "outputs": [
    {
     "name": "stdout",
     "output_type": "stream",
     "text": [
      "Tom is 13 years old\n"
     ]
    }
   ],
   "source": [
    "#Solution1.\n",
    "name = \"Tom\"\n",
    "age = 13\n",
    "print(\"%s is %d years old\" %(name, age))"
   ]
  },
  {
   "cell_type": "code",
   "execution_count": 20,
   "metadata": {},
   "outputs": [
    {
     "name": "stdout",
     "output_type": "stream",
     "text": [
      "10 / 3 = 3.333\n"
     ]
    }
   ],
   "source": [
    "#Solution2.\n",
    "a = 10\n",
    "b = 3\n",
    "print(\"%d / %d = %.3f\" % (a, b, (a/b)))"
   ]
  },
  {
   "cell_type": "markdown",
   "metadata": {},
   "source": [
    "## 고급 형식 표시 문자열\n",
    "- %20s : 전체 20칸을 차지하는 문자열(공백을 앞에 붙인다.)\n",
    "- %-10d : 전체 10칸을 차지하는 숫자(공백을 뒤에 붙인다.)\n",
    "- %.5f : 부동소수점의 소수점 아래 5자리까지 표시"
   ]
  },
  {
   "cell_type": "code",
   "execution_count": 21,
   "metadata": {},
   "outputs": [
    {
     "data": {
      "text/plain": [
       "'[                   *]'"
      ]
     },
     "execution_count": 21,
     "metadata": {},
     "output_type": "execute_result"
    }
   ],
   "source": [
    "\"[%20s]\" % \"*\""
   ]
  },
  {
   "cell_type": "code",
   "execution_count": 22,
   "metadata": {},
   "outputs": [
    {
     "data": {
      "text/plain": [
       "'[*                   ]'"
      ]
     },
     "execution_count": 22,
     "metadata": {},
     "output_type": "execute_result"
    }
   ],
   "source": [
    "\"[%-20s]\" % \"*\""
   ]
  },
  {
   "cell_type": "code",
   "execution_count": 23,
   "metadata": {},
   "outputs": [
    {
     "data": {
      "text/plain": [
       "'[                  88]'"
      ]
     },
     "execution_count": 23,
     "metadata": {},
     "output_type": "execute_result"
    }
   ],
   "source": [
    "\"[%20d]\" % 88"
   ]
  },
  {
   "cell_type": "code",
   "execution_count": 26,
   "metadata": {},
   "outputs": [
    {
     "data": {
      "text/plain": [
       "'0.33333'"
      ]
     },
     "execution_count": 26,
     "metadata": {},
     "output_type": "execute_result"
    }
   ],
   "source": [
    "x = 1 / 3.0\n",
    "\"%.5f\" % x"
   ]
  },
  {
   "cell_type": "code",
   "execution_count": 27,
   "metadata": {},
   "outputs": [
    {
     "data": {
      "text/plain": [
       "'[0.333333            ]'"
      ]
     },
     "execution_count": 27,
     "metadata": {},
     "output_type": "execute_result"
    }
   ],
   "source": [
    "\"[%-20.6f]\" % x"
   ]
  },
  {
   "cell_type": "markdown",
   "metadata": {},
   "source": [
    "## format 메서드를 사용한 문자열 형식화"
   ]
  },
  {
   "cell_type": "code",
   "execution_count": 28,
   "metadata": {},
   "outputs": [
    {
     "data": {
      "text/plain": [
       "'My name is Tom'"
      ]
     },
     "execution_count": 28,
     "metadata": {},
     "output_type": "execute_result"
    }
   ],
   "source": [
    "\"My name is {}\".format(\"Tom\")"
   ]
  },
  {
   "cell_type": "code",
   "execution_count": 29,
   "metadata": {},
   "outputs": [
    {
     "data": {
      "text/plain": [
       "\"Jane's score is 100\""
      ]
     },
     "execution_count": 29,
     "metadata": {},
     "output_type": "execute_result"
    }
   ],
   "source": [
    "\"{}'s score is {}\".format(\"Jane\", 100)"
   ]
  },
  {
   "cell_type": "code",
   "execution_count": 30,
   "metadata": {},
   "outputs": [
    {
     "data": {
      "text/plain": [
       "\"Jane's score is 100, 100, 100, 100, 100, 100\""
      ]
     },
     "execution_count": 30,
     "metadata": {},
     "output_type": "execute_result"
    }
   ],
   "source": [
    "#{}안에 값으로 같은 값을 반복하거나 순서를 바꾸어 넣을 수도 있다.\n",
    "\"{1}'s score is {0}, {0}, {0}, {0}, {0}, {0}\".format(100, \"Jane\")"
   ]
  },
  {
   "cell_type": "markdown",
   "metadata": {},
   "source": [
    "공백의 크기를 지정하거나 부동소수점의 소수점 아래 숫자를 지정할 수도 있다."
   ]
  },
  {
   "cell_type": "code",
   "execution_count": 33,
   "metadata": {},
   "outputs": [
    {
     "data": {
      "text/plain": [
       "'[*                   ]'"
      ]
     },
     "execution_count": 33,
     "metadata": {},
     "output_type": "execute_result"
    }
   ],
   "source": [
    "\"[{:20}]\".format(\"*\")"
   ]
  },
  {
   "cell_type": "code",
   "execution_count": 34,
   "metadata": {},
   "outputs": [
    {
     "data": {
      "text/plain": [
       "'[                   *]'"
      ]
     },
     "execution_count": 34,
     "metadata": {},
     "output_type": "execute_result"
    }
   ],
   "source": [
    "\"[{:>20}]\".format(\"*\")"
   ]
  },
  {
   "cell_type": "code",
   "execution_count": 36,
   "metadata": {},
   "outputs": [
    {
     "data": {
      "text/plain": [
       "'[0.33333             ]'"
      ]
     },
     "execution_count": 36,
     "metadata": {},
     "output_type": "execute_result"
    }
   ],
   "source": [
    "\"[{:<20.5f}]\".format(x)"
   ]
  },
  {
   "cell_type": "markdown",
   "metadata": {},
   "source": [
    "### Exercise 3.2.8  \n",
    "a, b 두 변수에 숫자를 넣고, 출력하라.  "
   ]
  },
  {
   "cell_type": "code",
   "execution_count": 45,
   "metadata": {},
   "outputs": [
    {
     "name": "stdout",
     "output_type": "stream",
     "text": [
      "       3\n",
      "x     12\n",
      "--------\n",
      "      36\n"
     ]
    }
   ],
   "source": [
    "a = 3\n",
    "b = 12\n",
    "print(\n",
    "\"{:>8}\\n{:<6}{}\\n--------\\n{:>8}\".format(a, 'x', b, a*b)\n",
    ")"
   ]
  },
  {
   "cell_type": "markdown",
   "metadata": {},
   "source": [
    "# 파이썬 조건문 기초"
   ]
  },
  {
   "cell_type": "markdown",
   "metadata": {},
   "source": [
    "## if ~ else 명령"
   ]
  },
  {
   "cell_type": "code",
   "execution_count": 48,
   "metadata": {},
   "outputs": [
    {
     "name": "stdout",
     "output_type": "stream",
     "text": [
      "홀수\n"
     ]
    }
   ],
   "source": [
    "a == 1\n",
    "if a % 2 == 0 : #짝수이면\n",
    "    print(\"짝수\")\n",
    "else :\n",
    "    print(\"홀수\")"
   ]
  },
  {
   "cell_type": "code",
   "execution_count": 49,
   "metadata": {},
   "outputs": [
    {
     "name": "stdout",
     "output_type": "stream",
     "text": [
      "2자리 수의 짝수가 아니다\n"
     ]
    }
   ],
   "source": [
    "# 2자리 수의 짝수 / 홀수인지 알고 싶을 때의 조건문\n",
    "b = 55\n",
    "if (b >=10) & (b < 100) & (b % 2 == 0):\n",
    "    print(\"2자리 수의 짝수\")\n",
    "else :\n",
    "    print(\"2자리 수의 짝수가 아니다\")"
   ]
  },
  {
   "cell_type": "markdown",
   "metadata": {},
   "source": [
    "### Exercise 3.2.9  \n",
    "1. a를 짝수로 하여 위의 코드를 재실행한다.  \n",
    "2. b를 다른 수로 하여 위의 코드를 다시 실행한다."
   ]
  },
  {
   "cell_type": "code",
   "execution_count": 50,
   "metadata": {},
   "outputs": [
    {
     "name": "stdout",
     "output_type": "stream",
     "text": [
      "홀수\n"
     ]
    }
   ],
   "source": [
    "a == 4\n",
    "if a % 2 == 0 : #짝수이면\n",
    "    print(\"짝수\")\n",
    "else :\n",
    "    print(\"홀수\")"
   ]
  },
  {
   "cell_type": "code",
   "execution_count": 51,
   "metadata": {},
   "outputs": [
    {
     "name": "stdout",
     "output_type": "stream",
     "text": [
      "2자리 수의 짝수\n"
     ]
    }
   ],
   "source": [
    "b = 60\n",
    "if (b >=10) & (b < 100) & (b % 2 == 0):\n",
    "    print(\"2자리 수의 짝수\")\n",
    "else :\n",
    "    print(\"2자리 수의 짝수가 아니다\")"
   ]
  },
  {
   "cell_type": "markdown",
   "metadata": {},
   "source": [
    "### Exerxise 3.2.10  \n",
    "변수 y의 값이 윤년이면 \"윤년입니다\"를 출력 / 아니라면 \"윤년이 아닙니다\"라고 출력하는 프로그램을 만든다. 윤년은 2월 29년이 있는 해로 다음과 같이 정해진다.  \n",
    "- 서력 기원 연수가 4로 나누어 떨어지는 해는 윤년 (2004, 2008, 2012, ...)  \n",
    "- 이 중에서 100으로 나누어 떨어지는 해는 평년 (1900, 2100, 2200, ...)  \n",
    "- 이 중에서 400으로 나누어 떨어지는 해는 윤년 (1600, 2000, 2400, ...)"
   ]
  },
  {
   "cell_type": "code",
   "execution_count": 58,
   "metadata": {
    "scrolled": true
   },
   "outputs": [
    {
     "name": "stdout",
     "output_type": "stream",
     "text": [
      "윤년입니다.\n"
     ]
    }
   ],
   "source": [
    "y = 1600\n",
    "if (y % 4 == 0) & (y % 100 != 0) | (y % 400 == 0):\n",
    "    print(\"윤년입니다.\")\n",
    "else :\n",
    "    print(\"윤년이 아닙니다.\")"
   ]
  },
  {
   "cell_type": "markdown",
   "metadata": {},
   "source": [
    "## if ~ elif ~ else 명령\n",
    "-> R에서의 ifelse 구문과 비교"
   ]
  },
  {
   "cell_type": "code",
   "execution_count": 60,
   "metadata": {},
   "outputs": [
    {
     "name": "stdout",
     "output_type": "stream",
     "text": [
      "B\n"
     ]
    }
   ],
   "source": [
    "#8개 이상 : A, 5~7 : B, ~4 : C\n",
    "c = 6\n",
    "\n",
    "if c >= 8 :\n",
    "    print(\"A\")\n",
    "elif c >=5 :\n",
    "    print(\"B\")\n",
    "else :\n",
    "    print(\"C\")"
   ]
  },
  {
   "cell_type": "markdown",
   "metadata": {},
   "source": [
    "### Exercise 3.2.11  \n",
    "c를 다른 수로 설정하고 다시 실행한다."
   ]
  },
  {
   "cell_type": "code",
   "execution_count": 62,
   "metadata": {},
   "outputs": [
    {
     "name": "stdout",
     "output_type": "stream",
     "text": [
      "A\n"
     ]
    }
   ],
   "source": [
    "#8개 이상 : A, 5~7 : B, ~4 : C\n",
    "\n",
    "c = 9\n",
    "if c >= 8 :\n",
    "    print(\"A\")\n",
    "elif c >=5 :\n",
    "    print(\"B\")\n",
    "else :\n",
    "    print(\"C\")"
   ]
  },
  {
   "cell_type": "markdown",
   "metadata": {},
   "source": [
    "### Exercise 3.2.12  \n",
    "어떤 농장에서는 수박이 10kg이 넘으면 1등급, 그렇지 않고 7kg이 넘으면 2등급,  \n",
    "그렇지 않고 4kg이 넘으면 3등급, 나머지는 4등급을 준다고 한다.  \n",
    "이 수박의 등급을 정하는 파이썬 코드를 작성한다."
   ]
  },
  {
   "cell_type": "code",
   "execution_count": 65,
   "metadata": {},
   "outputs": [
    {
     "name": "stdout",
     "output_type": "stream",
     "text": [
      "4등급\n"
     ]
    }
   ],
   "source": [
    "watermelon = 2\n",
    "\n",
    "if watermelon > 10 :\n",
    "    grade = '1등급'\n",
    "elif watermelon > 7 :\n",
    "    grade = \"2등급\"\n",
    "elif watermelon > 4 :\n",
    "    grade = \"3등급\"\n",
    "else :\n",
    "    grade = \"4등급\"\n",
    "\n",
    "print(grade)"
   ]
  },
  {
   "cell_type": "markdown",
   "metadata": {},
   "source": [
    "## 중첩 조건문\n",
    "조건문 안에 조건문이 포함된 형태"
   ]
  },
  {
   "cell_type": "markdown",
   "metadata": {},
   "source": [
    "학교에서 팔굽혀펴기 시험을 보는데 남자는 10번 이상을 해야 합격(Pass)이고 아니면 불합격(Fail)이다.  \n",
    "여자는 5번 이상을 해야 합격이라면 다음과 같이 프로그램을 만들 수 있다."
   ]
  },
  {
   "cell_type": "code",
   "execution_count": 68,
   "metadata": {},
   "outputs": [
    {
     "name": "stdout",
     "output_type": "stream",
     "text": [
      "Pass\n"
     ]
    }
   ],
   "source": [
    "sex = \"boy\"\n",
    "pushup = 12\n",
    "\n",
    "if sex == \"boy\" :\n",
    "    if pushup >= 10 :\n",
    "        grade = \"Pass\"\n",
    "    else :\n",
    "        grade = \"Fail\"\n",
    "else :\n",
    "    if pushup >= 5:\n",
    "        grade = \"Pass\"\n",
    "    else :\n",
    "        grade = \"Fail\"\n",
    "        \n",
    "print(grade)"
   ]
  },
  {
   "cell_type": "markdown",
   "metadata": {},
   "source": [
    "### Exercise 3.2.13\n",
    "죄수의 딜레마 문제 조건문으로 구현하기."
   ]
  },
  {
   "cell_type": "code",
   "execution_count": 70,
   "metadata": {},
   "outputs": [
    {
     "name": "stdout",
     "output_type": "stream",
     "text": [
      "YA is 0, YB is 10\n"
     ]
    }
   ],
   "source": [
    "XA = True\n",
    "XB = False\n",
    "\n",
    "if XA == True :\n",
    "    if XB == True :\n",
    "        YA = 5\n",
    "        YB = 5\n",
    "    else :\n",
    "        YA = 0\n",
    "        YB = 10\n",
    "else :\n",
    "    if XB == True :\n",
    "        YA = 10\n",
    "        YB = 0\n",
    "    else :\n",
    "        YA = 1\n",
    "        YB = 1\n",
    "        \n",
    "print(\"YA is {}, YB is {}\".format(YA, YB))"
   ]
  },
  {
   "cell_type": "markdown",
   "metadata": {},
   "source": [
    "# 파이썬 함수"
   ]
  },
  {
   "cell_type": "code",
   "execution_count": 71,
   "metadata": {},
   "outputs": [
    {
     "data": {
      "text/plain": [
       "12"
      ]
     },
     "execution_count": 71,
     "metadata": {},
     "output_type": "execute_result"
    }
   ],
   "source": [
    "def twotimes(x) :\n",
    "    y = 2*x\n",
    "    return y\n",
    "\n",
    "twotimes(6)"
   ]
  },
  {
   "cell_type": "markdown",
   "metadata": {},
   "source": [
    "### Exercise 3.2.14\n",
    "1. 짝수가 입력되면 \"짝수\"라는 문자열 / 홀수가 입력되면 \"홀수\"라는 문자열을 반환하는 함수를 구현하라.  \n",
    "2. 윤년을 나타내는 수가 입력되면 \"윤년\"이라는 문자열을, 그렇지 않은 수가 입력되면 \"평년\"이라는 문자열을 반환하는 함수를 만든다."
   ]
  },
  {
   "cell_type": "code",
   "execution_count": 72,
   "metadata": {},
   "outputs": [
    {
     "data": {
      "text/plain": [
       "'홀수'"
      ]
     },
     "execution_count": 72,
     "metadata": {},
     "output_type": "execute_result"
    }
   ],
   "source": [
    "#Solution 1.\n",
    "def Func1(x) :\n",
    "    if x % 2 == 0 :\n",
    "        y = \"짝수\"\n",
    "    else :\n",
    "        y = \"홀수\"\n",
    "    return y\n",
    "\n",
    "Func1(5)"
   ]
  },
  {
   "cell_type": "code",
   "execution_count": 75,
   "metadata": {},
   "outputs": [
    {
     "data": {
      "text/plain": [
       "'평년'"
      ]
     },
     "execution_count": 75,
     "metadata": {},
     "output_type": "execute_result"
    }
   ],
   "source": [
    "#Solution 2.\n",
    "def Func2(x) :\n",
    "    if (x % 4 == 0) & (x % 100 != 0) | (x % 400 == 0) :\n",
    "        y = \"윤년\"\n",
    "    else :\n",
    "        y = \"평년\"\n",
    "    return y\n",
    "\n",
    "Func2(2003)"
   ]
  },
  {
   "cell_type": "markdown",
   "metadata": {},
   "source": [
    "### Exercise 3.2.15\n",
    "평년일때의 각 월을 입력했을때 해당 월의 날짜수를 반환하는 함수 days1을 만든다."
   ]
  },
  {
   "cell_type": "code",
   "execution_count": 78,
   "metadata": {},
   "outputs": [
    {
     "data": {
      "text/plain": [
       "30"
      ]
     },
     "execution_count": 78,
     "metadata": {},
     "output_type": "execute_result"
    }
   ],
   "source": [
    "#Solution1\n",
    "def days1(x) :\n",
    "    if x in (1, 3, 5, 7, 8, 10, 12):\n",
    "        y = 31\n",
    "    elif x == 2 :\n",
    "        y = 28\n",
    "    else :\n",
    "        y = 30\n",
    "    return y\n",
    "\n",
    "days1(11)"
   ]
  },
  {
   "cell_type": "markdown",
   "metadata": {},
   "source": [
    "### Exercise 3.2.16\n",
    "연도와 월을 나타내는 숫자를 입력하면 그 달의 날짜 수를 반환하는 함수 days2를 만든다."
   ]
  },
  {
   "cell_type": "code",
   "execution_count": 84,
   "metadata": {},
   "outputs": [
    {
     "data": {
      "text/plain": [
       "29"
      ]
     },
     "execution_count": 84,
     "metadata": {},
     "output_type": "execute_result"
    }
   ],
   "source": [
    "#Solution1\n",
    "\n",
    "def days2(years, month) :\n",
    "    if (years % 4 == 0) & (years % 100 != 0) | (years % 400 == 0) :\n",
    "        y = \"윤년\"\n",
    "    else :\n",
    "        y = \"평년\"\n",
    "    if y == \"윤년\" :\n",
    "        if month in (1, 3, 5, 7, 8, 10, 12):\n",
    "            d = 31\n",
    "        elif month == 2 :\n",
    "            d = 29\n",
    "        else :\n",
    "            d = 30\n",
    "    else :\n",
    "        if month in (1, 3, 5, 7, 8, 10, 12):\n",
    "            d = 31\n",
    "        elif month == 2 :\n",
    "            d = 28\n",
    "        else :\n",
    "            d = 30\n",
    "    return d\n",
    "\n",
    "days2(2012, 2)"
   ]
  },
  {
   "cell_type": "markdown",
   "metadata": {},
   "source": [
    "## 람다함수\n",
    "함수에 이름을 주지 않거나 코드를 짧게 줄여쓰는 방법"
   ]
  },
  {
   "cell_type": "code",
   "execution_count": 85,
   "metadata": {},
   "outputs": [],
   "source": [
    "#Example\n",
    "def f(x) :\n",
    "    return 2*x"
   ]
  },
  {
   "cell_type": "code",
   "execution_count": 86,
   "metadata": {},
   "outputs": [],
   "source": [
    "#이 함수는 다음 람다함수와 같다.\n",
    "def f(x) : return 2*x"
   ]
  },
  {
   "cell_type": "code",
   "execution_count": 87,
   "metadata": {},
   "outputs": [
    {
     "data": {
      "text/plain": [
       "4"
      ]
     },
     "execution_count": 87,
     "metadata": {},
     "output_type": "execute_result"
    }
   ],
   "source": [
    "f(2)"
   ]
  },
  {
   "cell_type": "markdown",
   "metadata": {},
   "source": [
    "## 지역변수"
   ]
  },
  {
   "cell_type": "markdown",
   "metadata": {},
   "source": [
    "### Exerxise 3.2.17\n",
    "3개의 숫자를 입력하면 \"그 숫자들의 합\"과 \"그 숫자들을 제곱한 숫자들의 합\"의 차이를 계산하는 함수 diffsum을 만든다."
   ]
  },
  {
   "cell_type": "code",
   "execution_count": 97,
   "metadata": {},
   "outputs": [
    {
     "data": {
      "text/plain": [
       "0.10999999999999988"
      ]
     },
     "execution_count": 97,
     "metadata": {},
     "output_type": "execute_result"
    }
   ],
   "source": [
    "#Solution1\n",
    "def diffsum(x1, x2, x3) :\n",
    "    Sum = x1 + x2 + x3\n",
    "    SS = (x1**2) + (x2**2) + (x3**2)\n",
    "    if Sum > SS :\n",
    "        y = Sum - SS\n",
    "    else :\n",
    "        y = SS - Sum\n",
    "    return y\n",
    "\n",
    "diffsum(1, 1, 1.1)"
   ]
  },
  {
   "cell_type": "markdown",
   "metadata": {},
   "source": [
    "## 전역변수"
   ]
  },
  {
   "cell_type": "markdown",
   "metadata": {},
   "source": [
    "### Exercise 3.2.18\n",
    "함수 바깥에 m이라는 전역변수를 만들고 그 값을 0으로 놓는다.  \n",
    "앞에서 만든 diffsum함수를 고쳐서 diffsum함수와 같은 값을 반환하지만  \n",
    "함수를 실행할 때마다 diffsum에서 계산된 값이 원래 있던 m보다 크면 m을 계산된 값으로 바꾸는 함수 diffsum2를 만든다"
   ]
  },
  {
   "cell_type": "code",
   "execution_count": 100,
   "metadata": {},
   "outputs": [
    {
     "data": {
      "text/plain": [
       "8"
      ]
     },
     "execution_count": 100,
     "metadata": {},
     "output_type": "execute_result"
    }
   ],
   "source": [
    "#Solution2\n",
    "m = 0\n",
    "\n",
    "def diffsum2(x1, x2, x3) :\n",
    "    global m #함수 내에서 전역변수 m을 사용하는 방법\n",
    "    Sum = x1 + x2 + x3\n",
    "    SS = (x1**2) + (x2**2) + (x3**2)\n",
    "    if Sum > SS :\n",
    "        y = Sum - SS\n",
    "    else :\n",
    "        y = SS - Sum\n",
    "    if m < y :\n",
    "        m = y\n",
    "    return y\n",
    "diffsum2(1, 2, 3)"
   ]
  },
  {
   "cell_type": "markdown",
   "metadata": {},
   "source": [
    "# 반복구문"
   ]
  },
  {
   "cell_type": "markdown",
   "metadata": {},
   "source": [
    "## for 반복문"
   ]
  },
  {
   "cell_type": "code",
   "execution_count": 106,
   "metadata": {},
   "outputs": [
    {
     "name": "stdout",
     "output_type": "stream",
     "text": [
      "=1=\n",
      "=2=\n",
      "=3=\n",
      "=4=\n",
      "=5=\n",
      "=6=\n",
      "=7=\n",
      "=8=\n",
      "=9=\n",
      "=10=\n"
     ]
    }
   ],
   "source": [
    "for i in range(10):\n",
    "    print('=' + str(i+1) + '=')"
   ]
  },
  {
   "cell_type": "markdown",
   "metadata": {},
   "source": [
    "### Exercise 3.2.19 / 3.2.20"
   ]
  },
  {
   "cell_type": "code",
   "execution_count": 108,
   "metadata": {},
   "outputs": [
    {
     "name": "stdout",
     "output_type": "stream",
     "text": [
      "*\n",
      "**\n",
      "***\n",
      "****\n",
      "*****\n",
      "******\n",
      "*******\n",
      "********\n",
      "*********\n",
      "**********\n"
     ]
    }
   ],
   "source": [
    "for i in range(10):\n",
    "    print(\"*\"*(i+1))"
   ]
  },
  {
   "cell_type": "code",
   "execution_count": 109,
   "metadata": {},
   "outputs": [
    {
     "name": "stdout",
     "output_type": "stream",
     "text": [
      "*********\n",
      "********\n",
      "*******\n",
      "******\n",
      "*****\n",
      "****\n",
      "***\n",
      "**\n",
      "*\n",
      "\n"
     ]
    }
   ],
   "source": [
    "for i in range(10) :\n",
    "    print(\"*\"*(9-i))"
   ]
  },
  {
   "cell_type": "markdown",
   "metadata": {},
   "source": [
    "### Exercise 3.2.21\n",
    "- for 구문과 if 구문을 사용"
   ]
  },
  {
   "cell_type": "code",
   "execution_count": 115,
   "metadata": {},
   "outputs": [
    {
     "name": "stdout",
     "output_type": "stream",
     "text": [
      "*\n",
      "**\n",
      "***\n",
      "****\n",
      "*****\n",
      "******\n",
      "*******\n",
      "********\n",
      "*********\n",
      "**********\n",
      "*********\n",
      "********\n",
      "*******\n",
      "******\n",
      "*****\n",
      "****\n",
      "***\n",
      "**\n",
      "*\n"
     ]
    }
   ],
   "source": [
    "for i in range(19) :\n",
    "    if i < 10 :\n",
    "        print(\"*\"*(i+1)) #0~9 까지의 출력\n",
    "    else :\n",
    "        print(\"*\"*(19-i)) #10~18까지의 출력"
   ]
  },
  {
   "cell_type": "markdown",
   "metadata": {},
   "source": [
    "### Exercise 3.2.22"
   ]
  },
  {
   "cell_type": "code",
   "execution_count": 122,
   "metadata": {},
   "outputs": [
    {
     "name": "stdout",
     "output_type": "stream",
     "text": [
      "     *\n",
      "    ***\n",
      "   *****\n",
      "  *******\n",
      " *********\n",
      "***********\n",
      " *********\n",
      "  *******\n",
      "   *****\n",
      "    ***\n",
      "     *\n"
     ]
    }
   ],
   "source": [
    "for i in range(11) :\n",
    "    if i <= 5 :\n",
    "        print(\" \"*(5-(i)) + \"*\"*(2*i + 1))\n",
    "    else :\n",
    "        print(\" \"*(i-5) + \"*\"*(21- 2*i))"
   ]
  },
  {
   "cell_type": "markdown",
   "metadata": {},
   "source": [
    "## 중첩 for 반복문"
   ]
  },
  {
   "cell_type": "code",
   "execution_count": 126,
   "metadata": {},
   "outputs": [
    {
     "name": "stdout",
     "output_type": "stream",
     "text": [
      "0 1 2 3 \n",
      "1 2 3 4 \n",
      "2 3 4 5 \n",
      "3 4 5 6 \n"
     ]
    }
   ],
   "source": [
    "for i in range(4) :\n",
    "    for j in range(4) :\n",
    "        print(i + j, end = \" \")\n",
    "    print()"
   ]
  },
  {
   "cell_type": "code",
   "execution_count": 127,
   "metadata": {},
   "outputs": [
    {
     "name": "stdout",
     "output_type": "stream",
     "text": [
      "1 1\n",
      "1 2\n",
      "1 3\n",
      "1 4\n",
      "1 5\n",
      "1 6\n",
      "2 1\n",
      "2 2\n",
      "2 3\n",
      "2 4\n",
      "2 5\n",
      "2 6\n",
      "3 1\n",
      "3 2\n",
      "3 3\n",
      "3 4\n",
      "3 5\n",
      "3 6\n",
      "4 1\n",
      "4 2\n",
      "4 3\n",
      "4 4\n",
      "4 5\n",
      "4 6\n",
      "5 1\n",
      "5 2\n",
      "5 3\n",
      "5 4\n",
      "5 5\n",
      "5 6\n",
      "6 1\n",
      "6 2\n",
      "6 3\n",
      "6 4\n",
      "6 5\n",
      "6 6\n"
     ]
    }
   ],
   "source": [
    "for i in range(6) :\n",
    "    n1 = i + 1\n",
    "    for j in range(6) :\n",
    "        n2 = j + 1\n",
    "        print(n1, n2)"
   ]
  },
  {
   "cell_type": "code",
   "execution_count": 128,
   "metadata": {
    "scrolled": true
   },
   "outputs": [
    {
     "name": "stdout",
     "output_type": "stream",
     "text": [
      "1 3\n",
      "2 2\n",
      "2 6\n",
      "3 1\n",
      "3 5\n",
      "4 4\n",
      "5 3\n",
      "6 2\n",
      "6 6\n"
     ]
    }
   ],
   "source": [
    "#합이 4의 배수일때만 출력\n",
    "for i in range(6) :\n",
    "    n1 = i + 1\n",
    "    for j in range(6) :\n",
    "        n2 = j + 1\n",
    "        n = n1 + n2\n",
    "        if n % 4 == 0 :\n",
    "            print(n1, n2)"
   ]
  },
  {
   "cell_type": "markdown",
   "metadata": {},
   "source": [
    "# 리스트와 딕셔너리"
   ]
  },
  {
   "cell_type": "markdown",
   "metadata": {},
   "source": [
    "## 자료의 순서만 갖는 리스트 자료형"
   ]
  },
  {
   "cell_type": "code",
   "execution_count": 129,
   "metadata": {},
   "outputs": [
    {
     "data": {
      "text/plain": [
       "[88, 90, 100]"
      ]
     },
     "execution_count": 129,
     "metadata": {},
     "output_type": "execute_result"
    }
   ],
   "source": [
    "x = [88, 90, 100]\n",
    "x"
   ]
  },
  {
   "cell_type": "markdown",
   "metadata": {},
   "source": [
    "## 인덱싱"
   ]
  },
  {
   "cell_type": "code",
   "execution_count": 130,
   "metadata": {},
   "outputs": [
    {
     "data": {
      "text/plain": [
       "88"
      ]
     },
     "execution_count": 130,
     "metadata": {},
     "output_type": "execute_result"
    }
   ],
   "source": [
    "x[0]"
   ]
  },
  {
   "cell_type": "code",
   "execution_count": 131,
   "metadata": {},
   "outputs": [
    {
     "data": {
      "text/plain": [
       "89.0"
      ]
     },
     "execution_count": 131,
     "metadata": {},
     "output_type": "execute_result"
    }
   ],
   "source": [
    "(x[0] + x[1]) /2"
   ]
  },
  {
   "cell_type": "markdown",
   "metadata": {},
   "source": [
    "### Exercise 3.2.26\n",
    "시험 성적을 나타내는 임의의 숫자 5개를 리스트 변수 score에 넣고 평균을 구한다."
   ]
  },
  {
   "cell_type": "code",
   "execution_count": 135,
   "metadata": {},
   "outputs": [
    {
     "data": {
      "text/plain": [
       "70.8"
      ]
     },
     "execution_count": 135,
     "metadata": {},
     "output_type": "execute_result"
    }
   ],
   "source": [
    "score = [50, 68, 87, 59, 90]\n",
    "(score[0] + score[1]+ score[2]+ score[3]+ score[4]) / len(score)"
   ]
  },
  {
   "cell_type": "markdown",
   "metadata": {},
   "source": [
    "## 자료의 이름만 갖는 딕셔너리 자료형"
   ]
  },
  {
   "cell_type": "code",
   "execution_count": 138,
   "metadata": {},
   "outputs": [
    {
     "data": {
      "text/plain": [
       "{'english': 90, 'history': 100, 'math': 88}"
      ]
     },
     "execution_count": 138,
     "metadata": {},
     "output_type": "execute_result"
    }
   ],
   "source": [
    "b = {'math' : 88, 'english' : 90, 'history' : 100}\n",
    "b"
   ]
  },
  {
   "cell_type": "code",
   "execution_count": 139,
   "metadata": {},
   "outputs": [
    {
     "data": {
      "text/plain": [
       "88"
      ]
     },
     "execution_count": 139,
     "metadata": {},
     "output_type": "execute_result"
    }
   ],
   "source": [
    "b['math']"
   ]
  },
  {
   "cell_type": "markdown",
   "metadata": {},
   "source": [
    "파이썬에서 자료의 키는 무엇이든 가능하다. 즉, 숫자도 키가 될 수 있다."
   ]
  },
  {
   "cell_type": "code",
   "execution_count": 140,
   "metadata": {},
   "outputs": [
    {
     "data": {
      "text/plain": [
       "{1: 10, 2: 20}"
      ]
     },
     "execution_count": 140,
     "metadata": {},
     "output_type": "execute_result"
    }
   ],
   "source": [
    "b2 = {1 : 10, 2 : 20}\n",
    "b2"
   ]
  },
  {
   "cell_type": "code",
   "execution_count": 141,
   "metadata": {},
   "outputs": [
    {
     "data": {
      "text/plain": [
       "10"
      ]
     },
     "execution_count": 141,
     "metadata": {},
     "output_type": "execute_result"
    }
   ],
   "source": [
    "b2[1]"
   ]
  },
  {
   "cell_type": "markdown",
   "metadata": {},
   "source": [
    "### Exercise 3.2.27\n",
    "1. 윤년이 아닌 평년의 경우에 각 달의 날짜 수를 저장하는 변수 days를 만든다.  \n",
    "이 때 각 달을 표시하는 키는 두 글자짜리 문자열로 한다. 즉 1월은 \"01\", 12월은 \"12\"로 한다.  \n",
    "2. 변수 days를 이용하여 짝수 달의 평균 날짜 수를 구한다."
   ]
  },
  {
   "cell_type": "code",
   "execution_count": 145,
   "metadata": {},
   "outputs": [
    {
     "data": {
      "text/plain": [
       "{'01': 31,\n",
       " '02': 28,\n",
       " '03': 31,\n",
       " '04': 30,\n",
       " '05': 31,\n",
       " '06': 30,\n",
       " '07': 31,\n",
       " '08': 31,\n",
       " '09': 30,\n",
       " '10': 31,\n",
       " '11': 30,\n",
       " '12': 31}"
      ]
     },
     "execution_count": 145,
     "metadata": {},
     "output_type": "execute_result"
    }
   ],
   "source": [
    "days = {\"01\" : 31, \"02\" : 28, \"03\" : 31, \"04\" : 30, \"05\" : 31, \"06\" : 30,\n",
    "       \"07\" : 31, \"08\" : 31, \"09\" : 30, \"10\" : 31, \"11\" : 30, \"12\" : 31}\n",
    "days"
   ]
  },
  {
   "cell_type": "code",
   "execution_count": 146,
   "metadata": {},
   "outputs": [
    {
     "data": {
      "text/plain": [
       "30.166666666666668"
      ]
     },
     "execution_count": 146,
     "metadata": {},
     "output_type": "execute_result"
    }
   ],
   "source": [
    "(days['02'] + days['04'] + days['06'] + days['08'] + days['10'] + days['12']) / 6"
   ]
  },
  {
   "cell_type": "markdown",
   "metadata": {},
   "source": [
    "## 자료형이 다른 경우"
   ]
  },
  {
   "cell_type": "code",
   "execution_count": 147,
   "metadata": {},
   "outputs": [
    {
     "name": "stdout",
     "output_type": "stream",
     "text": [
      "[1, 3.14, 'pi']\n"
     ]
    }
   ],
   "source": [
    "d = [1, 3.14, 'pi']\n",
    "print(d)"
   ]
  },
  {
   "cell_type": "code",
   "execution_count": 148,
   "metadata": {},
   "outputs": [
    {
     "data": {
      "text/plain": [
       "20"
      ]
     },
     "execution_count": 148,
     "metadata": {},
     "output_type": "execute_result"
    }
   ],
   "source": [
    "#리스트 변수에 또 다른 리스트 변수를 넣는 경우\n",
    "e = [[1, 10], [2, 20]]\n",
    "e[1][1]"
   ]
  },
  {
   "cell_type": "markdown",
   "metadata": {},
   "source": [
    "# 파이썬에서 리스트 자료형 다루기"
   ]
  },
  {
   "cell_type": "code",
   "execution_count": 149,
   "metadata": {},
   "outputs": [
    {
     "data": {
      "text/plain": [
       "3"
      ]
     },
     "execution_count": 149,
     "metadata": {},
     "output_type": "execute_result"
    }
   ],
   "source": [
    "a = [1, 2, 3]\n",
    "len(a)"
   ]
  },
  {
   "cell_type": "markdown",
   "metadata": {},
   "source": [
    "## 수열 생성하기"
   ]
  },
  {
   "cell_type": "code",
   "execution_count": 150,
   "metadata": {},
   "outputs": [
    {
     "data": {
      "text/plain": [
       "[0, 1, 2, 3, 4, 5, 6, 7, 8, 9]"
      ]
     },
     "execution_count": 150,
     "metadata": {},
     "output_type": "execute_result"
    }
   ],
   "source": [
    "b = list(range(10))\n",
    "b"
   ]
  },
  {
   "cell_type": "code",
   "execution_count": 151,
   "metadata": {},
   "outputs": [
    {
     "data": {
      "text/plain": [
       "[1, 2, 3, 4, 5, 6, 7, 8, 9]"
      ]
     },
     "execution_count": 151,
     "metadata": {},
     "output_type": "execute_result"
    }
   ],
   "source": [
    "c = list(range(1, 10))\n",
    "c"
   ]
  },
  {
   "cell_type": "code",
   "execution_count": 152,
   "metadata": {},
   "outputs": [
    {
     "data": {
      "text/plain": [
       "[1, 4, 7]"
      ]
     },
     "execution_count": 152,
     "metadata": {},
     "output_type": "execute_result"
    }
   ],
   "source": [
    "d = list(range(1, 10, 3))\n",
    "d"
   ]
  },
  {
   "cell_type": "markdown",
   "metadata": {},
   "source": [
    "## 값을 바꾸기\n",
    "-> R과 동일"
   ]
  },
  {
   "cell_type": "code",
   "execution_count": 153,
   "metadata": {},
   "outputs": [
    {
     "data": {
      "text/plain": [
       "[100, 4, 7]"
      ]
     },
     "execution_count": 153,
     "metadata": {},
     "output_type": "execute_result"
    }
   ],
   "source": [
    "d[0] = 100\n",
    "d"
   ]
  },
  {
   "cell_type": "markdown",
   "metadata": {},
   "source": [
    "## 자료 추가하기\n",
    "append 메서드 사용"
   ]
  },
  {
   "cell_type": "code",
   "execution_count": 158,
   "metadata": {},
   "outputs": [
    {
     "data": {
      "text/plain": [
       "[0, 1, 2, 3]"
      ]
     },
     "execution_count": 158,
     "metadata": {},
     "output_type": "execute_result"
    }
   ],
   "source": [
    "e = list(range(4))\n",
    "e"
   ]
  },
  {
   "cell_type": "code",
   "execution_count": 159,
   "metadata": {},
   "outputs": [
    {
     "data": {
      "text/plain": [
       "[0, 1, 2, 3, 4]"
      ]
     },
     "execution_count": 159,
     "metadata": {},
     "output_type": "execute_result"
    }
   ],
   "source": [
    "e.append(4)\n",
    "e"
   ]
  },
  {
   "cell_type": "markdown",
   "metadata": {},
   "source": [
    "자료 삭제하기\n",
    "del 명령 사용하기."
   ]
  },
  {
   "cell_type": "code",
   "execution_count": 160,
   "metadata": {},
   "outputs": [
    {
     "data": {
      "text/plain": [
       "[0, 1, 3, 4]"
      ]
     },
     "execution_count": 160,
     "metadata": {},
     "output_type": "execute_result"
    }
   ],
   "source": [
    "del e[2]\n",
    "e"
   ]
  },
  {
   "cell_type": "markdown",
   "metadata": {},
   "source": [
    "## 슬라이싱\n",
    "특정 범위의 값만을 사용할 때 : 기호 사용"
   ]
  },
  {
   "cell_type": "code",
   "execution_count": 161,
   "metadata": {},
   "outputs": [
    {
     "data": {
      "text/plain": [
       "[0, 1, 2, 3, 4, 5, 6, 7, 8, 9, 10, 11, 12, 13, 14, 15, 16, 17, 18, 19]"
      ]
     },
     "execution_count": 161,
     "metadata": {},
     "output_type": "execute_result"
    }
   ],
   "source": [
    "g = list(range(20))\n",
    "g"
   ]
  },
  {
   "cell_type": "code",
   "execution_count": 163,
   "metadata": {},
   "outputs": [
    {
     "data": {
      "text/plain": [
       "[0, 1, 2, 3, 4]"
      ]
     },
     "execution_count": 163,
     "metadata": {},
     "output_type": "execute_result"
    }
   ],
   "source": [
    "g[:5]"
   ]
  },
  {
   "cell_type": "markdown",
   "metadata": {},
   "source": [
    "## 역 인덱싱\n",
    "-> 음수 인덱스를 사용한 역인덱싱 : 이때 가장 뒤의 원소는 0이 아닌 -1값을 갖는다."
   ]
  },
  {
   "cell_type": "code",
   "execution_count": 164,
   "metadata": {},
   "outputs": [
    {
     "data": {
      "text/plain": [
       "19"
      ]
     },
     "execution_count": 164,
     "metadata": {},
     "output_type": "execute_result"
    }
   ],
   "source": [
    "g[-1]"
   ]
  },
  {
   "cell_type": "code",
   "execution_count": 166,
   "metadata": {},
   "outputs": [
    {
     "data": {
      "text/plain": [
       "[15, 16, 17]"
      ]
     },
     "execution_count": 166,
     "metadata": {},
     "output_type": "execute_result"
    }
   ],
   "source": [
    "g[-5 : -2]\n",
    "#마지막 인덱스에 해당하는 값은 가져오지 않는 것 주의하기."
   ]
  },
  {
   "cell_type": "markdown",
   "metadata": {},
   "source": [
    "### Exercise 3.2.28"
   ]
  },
  {
   "cell_type": "code",
   "execution_count": 167,
   "metadata": {},
   "outputs": [
    {
     "data": {
      "text/plain": [
       "['a', 'b', 'd', 'e', 'f', 'g', 'h', 'i', 'j', 'k']"
      ]
     },
     "execution_count": 167,
     "metadata": {},
     "output_type": "execute_result"
    }
   ],
   "source": [
    "sol1 = ['a', 'b','c','d','e','f','g','h','i','j']\n",
    "sol1.append('k')\n",
    "del sol1[2]\n",
    "sol1"
   ]
  },
  {
   "cell_type": "code",
   "execution_count": 170,
   "metadata": {
    "scrolled": true
   },
   "outputs": [
    {
     "data": {
      "text/plain": [
       "['f', 'g', 'h', 'i', 'j']"
      ]
     },
     "execution_count": 170,
     "metadata": {},
     "output_type": "execute_result"
    }
   ],
   "source": [
    "sol2 = sol1[4:9]\n",
    "sol2"
   ]
  },
  {
   "cell_type": "markdown",
   "metadata": {},
   "source": [
    "# 리스트와 반복문을 사용하여 계산하기"
   ]
  },
  {
   "cell_type": "code",
   "execution_count": 178,
   "metadata": {},
   "outputs": [
    {
     "data": {
      "text/plain": [
       "[90, 85, 95, 80, 90, 100, 85, 75, 85, 80]"
      ]
     },
     "execution_count": 178,
     "metadata": {},
     "output_type": "execute_result"
    }
   ],
   "source": [
    "a = [90, 85, 95, 80, 90, 100, 85, 75, 85, 80]\n",
    "a"
   ]
  },
  {
   "cell_type": "code",
   "execution_count": 172,
   "metadata": {},
   "outputs": [
    {
     "data": {
      "text/plain": [
       "10"
      ]
     },
     "execution_count": 172,
     "metadata": {},
     "output_type": "execute_result"
    }
   ],
   "source": [
    "len(a)"
   ]
  },
  {
   "cell_type": "code",
   "execution_count": 173,
   "metadata": {},
   "outputs": [
    {
     "data": {
      "text/plain": [
       "865"
      ]
     },
     "execution_count": 173,
     "metadata": {},
     "output_type": "execute_result"
    }
   ],
   "source": [
    "sum = 0\n",
    "for i in range(len(a)) :\n",
    "    sum = sum + a[i]\n",
    "sum"
   ]
  },
  {
   "cell_type": "code",
   "execution_count": 174,
   "metadata": {},
   "outputs": [
    {
     "data": {
      "text/plain": [
       "86.5"
      ]
     },
     "execution_count": 174,
     "metadata": {},
     "output_type": "execute_result"
    }
   ],
   "source": [
    "average = sum / len(a)\n",
    "average"
   ]
  },
  {
   "cell_type": "code",
   "execution_count": 176,
   "metadata": {},
   "outputs": [
    {
     "data": {
      "text/plain": [
       "[185, 175, 185, 170, 185, 200, 175, 155, 180, 170]"
      ]
     },
     "execution_count": 176,
     "metadata": {},
     "output_type": "execute_result"
    }
   ],
   "source": [
    "s = []\n",
    "a1 = [90, 85, 95, 80, 90, 100, 85, 75, 85, 80]\n",
    "a2 = [95, 90, 90, 90, 95, 100, 90, 80, 95, 90]\n",
    "for i in range(len(a1)) :\n",
    "    s.append(a1[i] + a2[i])\n",
    "s"
   ]
  },
  {
   "cell_type": "markdown",
   "metadata": {},
   "source": [
    "## 리스트의 원소를 직접 반복문에서 사용하기"
   ]
  },
  {
   "cell_type": "code",
   "execution_count": 179,
   "metadata": {},
   "outputs": [
    {
     "data": {
      "text/plain": [
       "86.5"
      ]
     },
     "execution_count": 179,
     "metadata": {},
     "output_type": "execute_result"
    }
   ],
   "source": [
    "sum = 0\n",
    "for ai in a:\n",
    "    sum = sum + ai\n",
    "average = sum/len(a)\n",
    "average"
   ]
  },
  {
   "cell_type": "markdown",
   "metadata": {},
   "source": [
    "## zip 함수"
   ]
  },
  {
   "cell_type": "code",
   "execution_count": 182,
   "metadata": {},
   "outputs": [
    {
     "data": {
      "text/plain": [
       "[(90, 95),\n",
       " (85, 90),\n",
       " (95, 90),\n",
       " (80, 90),\n",
       " (90, 95),\n",
       " (100, 100),\n",
       " (85, 90),\n",
       " (75, 80),\n",
       " (85, 95),\n",
       " (80, 90)]"
      ]
     },
     "execution_count": 182,
     "metadata": {},
     "output_type": "execute_result"
    }
   ],
   "source": [
    "list((zip(a1, a2)))\n",
    "#range함수처럼 list화 해야 한다.\n",
    "#각각의 묶음은 튜플로 구성된다."
   ]
  },
  {
   "cell_type": "code",
   "execution_count": 183,
   "metadata": {},
   "outputs": [
    {
     "data": {
      "text/plain": [
       "[185, 175, 185, 170, 185, 200, 175, 155, 180, 170]"
      ]
     },
     "execution_count": 183,
     "metadata": {},
     "output_type": "execute_result"
    }
   ],
   "source": [
    "s = []\n",
    "for a1i, a2i in zip(a1, a2) :\n",
    "    s.append(a1i + a2i)\n",
    "s"
   ]
  },
  {
   "cell_type": "markdown",
   "metadata": {},
   "source": [
    "## enumerate 함수\n",
    "리스트의 원소를 반복하면서 동시에 인덱스값도 생성하게 하는 명령"
   ]
  },
  {
   "cell_type": "code",
   "execution_count": 184,
   "metadata": {},
   "outputs": [
    {
     "name": "stdout",
     "output_type": "stream",
     "text": [
      "i = 0, e = a\n",
      "i = 1, e = b\n",
      "i = 2, e = c\n"
     ]
    }
   ],
   "source": [
    "for i, e in enumerate([\"a\", \"b\", \"c\"]) :\n",
    "    print(\"i = %d, e = %s\" %(i, e))"
   ]
  },
  {
   "cell_type": "code",
   "execution_count": 185,
   "metadata": {},
   "outputs": [
    {
     "data": {
      "text/plain": [
       "[185, 175, 185, 170, 185, 200, 175, 155, 180, 170]"
      ]
     },
     "execution_count": 185,
     "metadata": {},
     "output_type": "execute_result"
    }
   ],
   "source": [
    "s = [0,0,0,0,0,0,0,0,0,0]\n",
    "a1 = [90, 85, 95, 80, 90, 100, 85, 75, 85, 80]\n",
    "a2 = [95, 90, 90, 90, 95, 100, 90, 80, 95, 90]\n",
    "for i, (a1i, a2i) in enumerate(zip(a1, a2)) :\n",
    "    s[i] = a1i + a2i\n",
    "s"
   ]
  },
  {
   "cell_type": "markdown",
   "metadata": {},
   "source": [
    "## 리스트의 리스트"
   ]
  },
  {
   "cell_type": "code",
   "execution_count": 186,
   "metadata": {},
   "outputs": [
    {
     "data": {
      "text/plain": [
       "[[85, 90, 20, 50, 60, 25, 30, 75, 40, 55],\n",
       " [70, 100, 70, 70, 55, 75, 55, 60, 40, 45],\n",
       " [25, 65, 15, 25, 20, 5, 60, 70, 35, 10],\n",
       " [80, 45, 80, 40, 75, 35, 80, 55, 70, 90],\n",
       " [35, 50, 75, 25, 35, 70, 65, 50, 70, 10]]"
      ]
     },
     "execution_count": 186,
     "metadata": {},
     "output_type": "execute_result"
    }
   ],
   "source": [
    "X = [[85,  90,  20,  50,  60,  25,  30,  75,  40,  55],\n",
    "     [70, 100,  70,  70,  55,  75,  55,  60,  40,  45],\n",
    "     [25,  65,  15,  25,  20,   5,  60,  70,  35,  10],\n",
    "     [80,  45,  80,  40,  75,  35,  80,  55,  70,  90],\n",
    "     [35,  50,  75,  25,  35,  70,  65,  50,  70,  10]]\n",
    "X"
   ]
  },
  {
   "cell_type": "code",
   "execution_count": 187,
   "metadata": {},
   "outputs": [
    {
     "data": {
      "text/plain": [
       "52.7"
      ]
     },
     "execution_count": 187,
     "metadata": {},
     "output_type": "execute_result"
    }
   ],
   "source": [
    "#전체 평균 계산하기\n",
    "sum = 0\n",
    "num = 0\n",
    "for i in range(len(X)) :\n",
    "    for j in range(len(X[i])) :\n",
    "        num = num + 1\n",
    "        sum = sum + X[i][j]\n",
    "        \n",
    "sum / num"
   ]
  },
  {
   "cell_type": "markdown",
   "metadata": {},
   "source": [
    "### Exercise 3.2.29"
   ]
  },
  {
   "cell_type": "code",
   "execution_count": 191,
   "metadata": {},
   "outputs": [
    {
     "data": {
      "text/plain": [
       "4.0"
      ]
     },
     "execution_count": 191,
     "metadata": {},
     "output_type": "execute_result"
    }
   ],
   "source": [
    "grade = [4, 3, 2, 3, 4]\n",
    "hours = [3, 3, 1, 2, 2]\n",
    "sum1 = 0\n",
    "sum2 = 0\n",
    "for i in range(len(grade)) :\n",
    "    sum1 = grade[i]*hours[i]\n",
    "    sum2 = hours[i]\n",
    "    \n",
    "GPA = sum1 / sum2\n",
    "GPA"
   ]
  },
  {
   "cell_type": "markdown",
   "metadata": {},
   "source": [
    "### Exercise 3.2.30"
   ]
  },
  {
   "cell_type": "code",
   "execution_count": 198,
   "metadata": {},
   "outputs": [
    {
     "name": "stdout",
     "output_type": "stream",
     "text": [
      "mean : 5.0\n",
      "variance : 1.6666666666666667\n"
     ]
    }
   ],
   "source": [
    "X = 6, 5, 4, 7, 3, 5\n",
    "sum = 0\n",
    "for i in range(len(X)) :\n",
    "    sum = sum + X[i]\n",
    "\n",
    "mean = sum / len(X)\n",
    "\n",
    "SS = 0\n",
    "\n",
    "for i in range(len(X)) :\n",
    "    SS = SS + (X[i] - mean)**2\n",
    "\n",
    "variance = SS / len(X)\n",
    "print(\"mean : \" + str(mean) +\"\\n\" \n",
    "      + \"variance : \" + str(variance))"
   ]
  },
  {
   "cell_type": "markdown",
   "metadata": {},
   "source": [
    "# 파이썬에서 딕셔너리 자료형 다루기\n",
    "## 자료의 개수\n",
    "리스트와 동일한 len명령 사용"
   ]
  },
  {
   "cell_type": "code",
   "execution_count": 200,
   "metadata": {},
   "outputs": [
    {
     "data": {
      "text/plain": [
       "2"
      ]
     },
     "execution_count": 200,
     "metadata": {},
     "output_type": "execute_result"
    }
   ],
   "source": [
    "x = {\"a\" : 10, \"b\" : 20}\n",
    "len(x)"
   ]
  },
  {
   "cell_type": "markdown",
   "metadata": {},
   "source": [
    "## 자료의 갱신, 추가, 삭제"
   ]
  },
  {
   "cell_type": "code",
   "execution_count": 202,
   "metadata": {},
   "outputs": [
    {
     "data": {
      "text/plain": [
       "{'a': 30, 'b': 20}"
      ]
     },
     "execution_count": 202,
     "metadata": {},
     "output_type": "execute_result"
    }
   ],
   "source": [
    "x[\"a\"] = 30\n",
    "x"
   ]
  },
  {
   "cell_type": "code",
   "execution_count": 203,
   "metadata": {},
   "outputs": [
    {
     "data": {
      "text/plain": [
       "{'a': 30, 'b': 20, 'c': 50}"
      ]
     },
     "execution_count": 203,
     "metadata": {},
     "output_type": "execute_result"
    }
   ],
   "source": [
    "x[\"c\"] = 50\n",
    "x"
   ]
  },
  {
   "cell_type": "code",
   "execution_count": 204,
   "metadata": {},
   "outputs": [
    {
     "data": {
      "text/plain": [
       "{'a': 30, 'c': 50}"
      ]
     },
     "execution_count": 204,
     "metadata": {},
     "output_type": "execute_result"
    }
   ],
   "source": [
    "del x['b']\n",
    "x"
   ]
  },
  {
   "cell_type": "markdown",
   "metadata": {},
   "source": [
    "## 키 확인"
   ]
  },
  {
   "cell_type": "code",
   "execution_count": 205,
   "metadata": {},
   "outputs": [
    {
     "data": {
      "text/plain": [
       "True"
      ]
     },
     "execution_count": 205,
     "metadata": {},
     "output_type": "execute_result"
    }
   ],
   "source": [
    "\"a\" in x"
   ]
  },
  {
   "cell_type": "code",
   "execution_count": 206,
   "metadata": {},
   "outputs": [
    {
     "data": {
      "text/plain": [
       "False"
      ]
     },
     "execution_count": 206,
     "metadata": {},
     "output_type": "execute_result"
    }
   ],
   "source": [
    "\"d\" in x\n",
    "#키의 존재유무를 확인할 수 있다."
   ]
  },
  {
   "cell_type": "markdown",
   "metadata": {},
   "source": [
    "## 딕셔너리 자료형의 반복\n",
    "- 딕셔너리는 내부적으로 자료의 순서를 보장하지 않는 것을 염두.  \n",
    "for 반복구문에서 딕셔너리 자료형을 사용하는 방법에는 3가지가 존재.  \n",
    "-- 키만 반복하는 경우  \n",
    "-- 값만 반복하는 경우  \n",
    "-- 키와 값 쌍을 반복하는 경우"
   ]
  },
  {
   "cell_type": "code",
   "execution_count": 210,
   "metadata": {},
   "outputs": [
    {
     "name": "stdout",
     "output_type": "stream",
     "text": [
      "a\n",
      "c\n"
     ]
    }
   ],
   "source": [
    "#키 반복\n",
    "for k in x :\n",
    "    print(k)"
   ]
  },
  {
   "cell_type": "code",
   "execution_count": 211,
   "metadata": {},
   "outputs": [
    {
     "data": {
      "text/plain": [
       "dict_keys(['a', 'c'])"
      ]
     },
     "execution_count": 211,
     "metadata": {},
     "output_type": "execute_result"
    }
   ],
   "source": [
    "x.keys()"
   ]
  },
  {
   "cell_type": "code",
   "execution_count": 212,
   "metadata": {},
   "outputs": [
    {
     "name": "stdout",
     "output_type": "stream",
     "text": [
      "a\n",
      "c\n"
     ]
    }
   ],
   "source": [
    "for k in x.keys() :\n",
    "    print(k)"
   ]
  },
  {
   "cell_type": "code",
   "execution_count": 213,
   "metadata": {},
   "outputs": [
    {
     "data": {
      "text/plain": [
       "dict_values([30, 50])"
      ]
     },
     "execution_count": 213,
     "metadata": {},
     "output_type": "execute_result"
    }
   ],
   "source": [
    "#값 반복\n",
    "x.values()"
   ]
  },
  {
   "cell_type": "code",
   "execution_count": 214,
   "metadata": {},
   "outputs": [
    {
     "name": "stdout",
     "output_type": "stream",
     "text": [
      "30\n",
      "50\n"
     ]
    }
   ],
   "source": [
    "for v in x.values():\n",
    "    print(v)"
   ]
  },
  {
   "cell_type": "code",
   "execution_count": 217,
   "metadata": {
    "scrolled": true
   },
   "outputs": [
    {
     "name": "stdout",
     "output_type": "stream",
     "text": [
      "key [a] => value [30]\n",
      "key [c] => value [50]\n"
     ]
    }
   ],
   "source": [
    "#키와 값의 쌍 반복 : item\n",
    "for k, v in x.items():\n",
    "                   print(\"key [%s] => value [%d]\" % (k, v))"
   ]
  },
  {
   "cell_type": "markdown",
   "metadata": {},
   "source": [
    "# 파이썬 객체지향 프로그래밍"
   ]
  },
  {
   "cell_type": "code",
   "execution_count": 1,
   "metadata": {},
   "outputs": [],
   "source": [
    "class Rectangle(object) :\n",
    "    \n",
    "    def __init__(self, h, v) :\n",
    "        self.h = h\n",
    "        self.v = v\n",
    "        \n",
    "    def area(self) :\n",
    "        return self.h * self.v"
   ]
  },
  {
   "cell_type": "code",
   "execution_count": 4,
   "metadata": {},
   "outputs": [
    {
     "name": "stdout",
     "output_type": "stream",
     "text": [
      "200\n"
     ]
    }
   ],
   "source": [
    "r = Rectangle(10, 20)\n",
    "a = r.area()\n",
    "print(a)"
   ]
  },
  {
   "cell_type": "code",
   "execution_count": 8,
   "metadata": {},
   "outputs": [
    {
     "data": {
      "text/plain": [
       "200"
      ]
     },
     "execution_count": 8,
     "metadata": {},
     "output_type": "execute_result"
    }
   ],
   "source": [
    "r.h\n",
    "r.area()"
   ]
  },
  {
   "cell_type": "markdown",
   "metadata": {},
   "source": [
    "## 클래스"
   ]
  },
  {
   "cell_type": "code",
   "execution_count": 10,
   "metadata": {},
   "outputs": [],
   "source": [
    "a = Rectangle(1, 2)\n",
    "b = Rectangle(1, 3)\n",
    "c = Rectangle(3, 4)"
   ]
  },
  {
   "cell_type": "markdown",
   "metadata": {},
   "source": [
    "## 생성자"
   ]
  },
  {
   "cell_type": "markdown",
   "metadata": {},
   "source": [
    "### Exercise 3.2.31\n",
    "삼각형의 넒이를 계산하기 위한 클래스를 만든다.  \n",
    "이 클래스는 다음과 같은 속성을 갖는다.  \n",
    "- 밑변의 길이 b와 높이 h\n",
    "- 삼각형의 넓이를 계산하는 메서드 area"
   ]
  },
  {
   "cell_type": "code",
   "execution_count": 11,
   "metadata": {},
   "outputs": [],
   "source": [
    "class triangle(object) :\n",
    "    \n",
    "    def __init__(self, b, h):\n",
    "        self.b = b\n",
    "        self.h = h\n",
    "    \n",
    "    def area(self) :\n",
    "        return self.b * self.h * (1/2)"
   ]
  },
  {
   "cell_type": "code",
   "execution_count": 14,
   "metadata": {},
   "outputs": [
    {
     "name": "stdout",
     "output_type": "stream",
     "text": [
      "1.0\n"
     ]
    }
   ],
   "source": [
    "A = triangle(2, 1)\n",
    "print(A.area())"
   ]
  },
  {
   "cell_type": "markdown",
   "metadata": {},
   "source": [
    "### Exercise 3.2.32\n",
    "사각 기둥의 부피를 계산하기 위한 클래스를 만든다.  \n",
    "- 밑면의 가로길이 a, 세로길이 b, 높이 h\n",
    "- 부피를 계산하는 메서드 volume\n",
    "- 겉넓이를 계산하는 메서드 surface"
   ]
  },
  {
   "cell_type": "code",
   "execution_count": 15,
   "metadata": {},
   "outputs": [],
   "source": [
    "class V(object):\n",
    "    \n",
    "    def __init__(self, a, b, h) :\n",
    "        self.a = a\n",
    "        self.b = b\n",
    "        self.h = h\n",
    "    def volume(self) :\n",
    "        return self.a * self.b * self.h\n",
    "    def surface(self) :\n",
    "        return (self.a * self.b + self.b * self.h + self.a * self.h)*2"
   ]
  },
  {
   "cell_type": "markdown",
   "metadata": {},
   "source": [
    "## 게임 캐릭터와 객체 : 상속의 개념 이해하기"
   ]
  },
  {
   "cell_type": "code",
   "execution_count": 2,
   "metadata": {},
   "outputs": [],
   "source": [
    "class Character(object) :\n",
    "    \n",
    "    def __init__(self) :\n",
    "        self.life = 1000\n",
    "    \n",
    "    def attacked(self) : \n",
    "        self.life -= 10\n",
    "        print(\"u공격받음! 생명력 = \", self.life)"
   ]
  },
  {
   "cell_type": "code",
   "execution_count": 3,
   "metadata": {},
   "outputs": [],
   "source": [
    "a = Character()\n",
    "b = Character()\n",
    "c = Character()"
   ]
  },
  {
   "cell_type": "code",
   "execution_count": 4,
   "metadata": {},
   "outputs": [
    {
     "name": "stdout",
     "output_type": "stream",
     "text": [
      "u공격받음! 생명력 =  990\n",
      "u공격받음! 생명력 =  980\n",
      "u공격받음! 생명력 =  970\n",
      "u공격받음! 생명력 =  960\n"
     ]
    }
   ],
   "source": [
    "a.attacked()\n",
    "a.attacked()\n",
    "a.attacked()\n",
    "a.attacked()"
   ]
  },
  {
   "cell_type": "markdown",
   "metadata": {},
   "source": [
    "### 클래스 상속\n",
    "각각의 캐릭터에 '직업'을 부여하고 싶다면,\n",
    "새로운 클래스를 만들어 상속을 사용한다."
   ]
  },
  {
   "cell_type": "code",
   "execution_count": 5,
   "metadata": {},
   "outputs": [],
   "source": [
    "class Warrior(Character) :\n",
    "    \n",
    "    def __init__(self) :\n",
    "        super(Warrior, self).__init__() #부모 클래스의 생성자를 호출하여 life 초기화\n",
    "        self.strength = 15\n",
    "        self.intelligence = 5"
   ]
  },
  {
   "cell_type": "code",
   "execution_count": 6,
   "metadata": {},
   "outputs": [],
   "source": [
    "class Wizard(Character) :\n",
    "    \n",
    "    def __init__(self) :\n",
    "        super(Wizard, self).__init__() #부모 클래스의 생성자를 호출하여 life 초기화\n",
    "        self.strength = 5\n",
    "        self.intelligence = 15"
   ]
  },
  {
   "cell_type": "markdown",
   "metadata": {},
   "source": [
    "이 클래스의 객체를 만들어 보면 명시적으로 만들지 않았지만,  \n",
    "life라는 속성과 attacked라는 메서드를 가진다.  \n",
    "-> 상속받았음을 의미한다."
   ]
  },
  {
   "cell_type": "code",
   "execution_count": 7,
   "metadata": {},
   "outputs": [],
   "source": [
    "a = Warrior()\n",
    "b = Wizard()"
   ]
  },
  {
   "cell_type": "code",
   "execution_count": 8,
   "metadata": {},
   "outputs": [
    {
     "data": {
      "text/plain": [
       "(1000, 1000)"
      ]
     },
     "execution_count": 8,
     "metadata": {},
     "output_type": "execute_result"
    }
   ],
   "source": [
    "a.life, b.life"
   ]
  },
  {
   "cell_type": "code",
   "execution_count": 9,
   "metadata": {},
   "outputs": [
    {
     "data": {
      "text/plain": [
       "(15, 5)"
      ]
     },
     "execution_count": 9,
     "metadata": {},
     "output_type": "execute_result"
    }
   ],
   "source": [
    "a.strength, b.strength"
   ]
  },
  {
   "cell_type": "markdown",
   "metadata": {},
   "source": [
    "## 메서드 오버라이딩\n",
    "Method Overriding 이란, 여러 클래스에 걸쳐서 같은 이름의 메서드를 만드는 것.  \n",
    "예를 들어 부모 클래스, 전사 클래스, 마법사 클래스에 공통으로 attack이라는  \n",
    "메서드가 있지만, 각각 하는 일이 다를때는 다음처럼 같은 이름의 메서드를 클래스별로  \n",
    "구현하면 된다. 이렇게 되면 부모 클래스에서 만든 메서드 정의를 자식 클래스에서는 변경해서 사용한다."
   ]
  },
  {
   "cell_type": "code",
   "execution_count": 10,
   "metadata": {},
   "outputs": [],
   "source": [
    "class Character(object) :\n",
    "    def __init__(self) :\n",
    "        self.life = 1000\n",
    "        self.strength = 10\n",
    "        self.intelligence = 10\n",
    "        \n",
    "    def attacked(self) :\n",
    "        self.life -= 10\n",
    "        print(u\"공격받음! 생명력 = \", self.life)\n",
    "        \n",
    "    def attack(self) :\n",
    "        print(u\"공격!\")"
   ]
  },
  {
   "cell_type": "code",
   "execution_count": 11,
   "metadata": {},
   "outputs": [],
   "source": [
    "class Warrior(Character) :\n",
    "    def __init__(self) :\n",
    "        super(Warrior, self).__init__()\n",
    "        self.strength = 15\n",
    "        self.intelligence = 5\n",
    "        \n",
    "    def attack(self) :\n",
    "        print(u\"육탄 공격!\")"
   ]
  },
  {
   "cell_type": "code",
   "execution_count": 12,
   "metadata": {},
   "outputs": [],
   "source": [
    "class Wizard(Character) :\n",
    "    def __init__(self) :\n",
    "        super(Wizard, self).__init__()\n",
    "        self.strength = 5\n",
    "        self.intelligence = 15\n",
    "        \n",
    "    def attack(self) :\n",
    "        print(u\"마법 공격!\")"
   ]
  },
  {
   "cell_type": "code",
   "execution_count": 13,
   "metadata": {},
   "outputs": [],
   "source": [
    "a = Character()\n",
    "b = Warrior()\n",
    "c = Wizard()"
   ]
  },
  {
   "cell_type": "code",
   "execution_count": 14,
   "metadata": {},
   "outputs": [
    {
     "name": "stdout",
     "output_type": "stream",
     "text": [
      "공격!\n",
      "육탄 공격!\n",
      "마법 공격!\n"
     ]
    },
    {
     "data": {
      "text/plain": [
       "(None, None, None)"
      ]
     },
     "execution_count": 14,
     "metadata": {},
     "output_type": "execute_result"
    }
   ],
   "source": [
    "a.attack(), b.attack(), c.attack()"
   ]
  },
  {
   "cell_type": "markdown",
   "metadata": {},
   "source": [
    "b와 c는 기존의 Character 클래스에서 받은 attack 메서드를 오버라이딩 한 것을 알 수 있다."
   ]
  },
  {
   "cell_type": "markdown",
   "metadata": {},
   "source": [
    "### Exercise 3.2.33\n",
    "게임 캐릭터 코드에서 attacked 메서드도 오버라이딩을 하여,  \n",
    "전사와 마법사가 공격을 받을 때 각각 다른 값을 갖도록 하여라."
   ]
  },
  {
   "cell_type": "code",
   "execution_count": 15,
   "metadata": {},
   "outputs": [],
   "source": [
    "class Warrior(Character) :\n",
    "    def __init__(self) :\n",
    "        super(Warrior, self).__init__()\n",
    "        self.strength = 15\n",
    "        self.intelligence = 5\n",
    "        \n",
    "    def attack(self) :\n",
    "        print(u\"육탄 공격!\")\n",
    "\n",
    "    def attacked(self) :\n",
    "        self.life -= 5\n",
    "        print(u\"공격받음! 생명력 = \", self.life)"
   ]
  },
  {
   "cell_type": "code",
   "execution_count": 16,
   "metadata": {},
   "outputs": [
    {
     "name": "stdout",
     "output_type": "stream",
     "text": [
      "공격받음! 생명력 =  995\n"
     ]
    }
   ],
   "source": [
    "a = Warrior()\n",
    "a.attacked()"
   ]
  },
  {
   "cell_type": "code",
   "execution_count": 18,
   "metadata": {},
   "outputs": [],
   "source": [
    "class Wizard(Character) :\n",
    "    def __init__(self) :\n",
    "        super(Wizard, self).__init__()\n",
    "        self.strength = 5\n",
    "        self.intelligence = 15\n",
    "        \n",
    "    def attacked(self) :\n",
    "        self.life -= 15\n",
    "        print(u\"공격받음! 생명력 = \", self.life)"
   ]
  },
  {
   "cell_type": "code",
   "execution_count": 19,
   "metadata": {},
   "outputs": [
    {
     "name": "stdout",
     "output_type": "stream",
     "text": [
      "공격받음! 생명력 =  985\n"
     ]
    }
   ],
   "source": [
    "b = Wizard()\n",
    "b.attacked()"
   ]
  },
  {
   "cell_type": "markdown",
   "metadata": {},
   "source": [
    "### Exercise 3.2.34\n",
    "다음과 같이 자동차를 나타내는 car 클래스를 구현한다.  \n",
    "- 이 클래스는 최고 속도를 의미하는 max_speed 라는 속성과 현재 속도를 나타내는 speed라는 속성을 가진다.\n",
    "- 객체 생성시 max_speed 속성은 160이 되고 speed 속성은 0이 된다.\n",
    "- speed_up , speed_down이라는 메서드를 가진다. speed_up을 호출하면 speed 속성이 20씩 증가하고 speed_down 을 호출하면 speed 속성이 20씩 감소한다.\n",
    "- 스피드 속성 speed의 값은 max_speed의 속성 값, 즉 160을 넘을 수 없다. 또 0 미만으로 감소할 수도 없다.\n",
    "- 메서드는 호출시 속도 정보를 출력하고 명시적인 반환값을 가지지 않는다.\n",
    "- 위 기능이 모두 정상적으로 구현되었음을 보이는 코드를 추가한다."
   ]
  },
  {
   "cell_type": "code",
   "execution_count": 51,
   "metadata": {},
   "outputs": [],
   "source": [
    "class Car (object) :\n",
    "    def __init__(self) :\n",
    "        self.max_speed = 160\n",
    "        self.speed = 0\n",
    "    def speed_up(self) :\n",
    "        if (self.speed >= self.max_speed - 20) :\n",
    "            self.speed = self.max_speed\n",
    "            print(u\"최고속력 도달!\")\n",
    "        else :\n",
    "            self.speed += 20\n",
    "        print(u\"현재 속력 : \", self.speed)\n",
    "    def speed_down(self) :\n",
    "        if (self.speed <= 20) : \n",
    "            self.speed = 0\n",
    "            print(u\"정지!\")\n",
    "        else :\n",
    "            self.speed -=20\n",
    "        print(u\"현재 속력 : \", self.speed)"
   ]
  },
  {
   "cell_type": "code",
   "execution_count": 52,
   "metadata": {},
   "outputs": [
    {
     "name": "stdout",
     "output_type": "stream",
     "text": [
      "현재 속력 :  20\n",
      "현재 속력 :  40\n",
      "현재 속력 :  60\n",
      "현재 속력 :  80\n",
      "현재 속력 :  100\n",
      "현재 속력 :  120\n",
      "현재 속력 :  140\n",
      "최고속력 도달!\n",
      "현재 속력 :  160\n",
      "최고속력 도달!\n",
      "현재 속력 :  160\n",
      "최고속력 도달!\n",
      "현재 속력 :  160\n",
      "현재 속력 :  140\n",
      "현재 속력 :  120\n",
      "현재 속력 :  100\n",
      "현재 속력 :  80\n",
      "현재 속력 :  60\n",
      "현재 속력 :  40\n",
      "현재 속력 :  20\n",
      "정지!\n",
      "현재 속력 :  0\n",
      "정지!\n",
      "현재 속력 :  0\n",
      "정지!\n",
      "현재 속력 :  0\n",
      "정지!\n",
      "현재 속력 :  0\n"
     ]
    }
   ],
   "source": [
    "A = Car()\n",
    "A.speed_up()\n",
    "A.speed_up()\n",
    "A.speed_up()\n",
    "A.speed_up()\n",
    "A.speed_up()\n",
    "A.speed_up()\n",
    "A.speed_up()\n",
    "A.speed_up()\n",
    "A.speed_up()\n",
    "A.speed_up()\n",
    "A.speed_down()\n",
    "A.speed_down()\n",
    "A.speed_down()\n",
    "A.speed_down()\n",
    "A.speed_down()\n",
    "A.speed_down()\n",
    "A.speed_down()\n",
    "A.speed_down()\n",
    "A.speed_down()\n",
    "A.speed_down()\n",
    "A.speed_down()"
   ]
  },
  {
   "cell_type": "markdown",
   "metadata": {},
   "source": [
    "### Exercise  3.2.35\n",
    "Car 클래스를 기반으로 SportCar 와 Truct 이라는 두 개의 자식 클래스를 구현한다.\n",
    "- SportCar 클래스는 max_speed 속성이 200이고 speed_up, speed_down 호출시 속도가 45씩 증가 혹은 감소한다.\n",
    "- Truck 클래스는 max_speed 속성이 100이고 speed_up, speed_down 호출시 속도가 15씩 증가 혹은 감소한다.\n",
    "- 스피드 속성 speed의 값은 max_speed 속성 값을 넘을 수 없다. 또 0 미만으로 감소할 수도 없다."
   ]
  },
  {
   "cell_type": "code",
   "execution_count": 47,
   "metadata": {},
   "outputs": [],
   "source": [
    "class SportCar(Car):\n",
    "\n",
    "    def __init__(self):\n",
    "        super(SportCar, self).__init__()\n",
    "        self.max_speed = 200\n",
    "        \n",
    "    def speed_up(self) :\n",
    "        if (self.speed >= self.max_speed - 45) :\n",
    "            self.speed = self.max_speed\n",
    "            print(u\"최고속력 도달!\")\n",
    "        else :\n",
    "            self.speed += 45\n",
    "        print(u\"현재 속력 : \", self.speed)\n",
    "    def speed_down(self) :\n",
    "        if (self.speed <= 45) : \n",
    "            self.speed = 0\n",
    "            print(u\"정지!\")\n",
    "        else :\n",
    "            self.speed -=45\n",
    "        print(u\"현재 속력 : \", self.speed)"
   ]
  },
  {
   "cell_type": "code",
   "execution_count": 48,
   "metadata": {},
   "outputs": [
    {
     "name": "stdout",
     "output_type": "stream",
     "text": [
      "현재 속력 :  45\n",
      "현재 속력 :  90\n",
      "현재 속력 :  135\n",
      "현재 속력 :  180\n",
      "최고속력 도달!\n",
      "현재 속력 :  200\n",
      "최고속력 도달!\n",
      "현재 속력 :  200\n",
      "현재 속력 :  155\n",
      "현재 속력 :  110\n",
      "현재 속력 :  65\n",
      "현재 속력 :  20\n",
      "정지!\n",
      "현재 속력 :  0\n"
     ]
    }
   ],
   "source": [
    "A = SportCar()\n",
    "A.speed_up()\n",
    "A.speed_up()\n",
    "A.speed_up()\n",
    "A.speed_up()\n",
    "A.speed_up()\n",
    "A.speed_up()\n",
    "A.speed_down()\n",
    "A.speed_down()\n",
    "A.speed_down()\n",
    "A.speed_down()\n",
    "A.speed_down()"
   ]
  },
  {
   "cell_type": "code",
   "execution_count": 49,
   "metadata": {},
   "outputs": [],
   "source": [
    "class Truck(Car):\n",
    "\n",
    "    def __init__(self):\n",
    "        super(Truck, self).__init__()\n",
    "        self.max_speed = 100\n",
    "        \n",
    "    def speed_up(self) :\n",
    "        if (self.speed >= self.max_speed - 15) :\n",
    "            self.speed = self.max_speed\n",
    "            print(u\"최고속력 도달!\")\n",
    "        else :\n",
    "            self.speed += 15\n",
    "        print(u\"현재 속력 : \", self.speed)\n",
    "    def speed_down(self) :\n",
    "        if (self.speed <= 15) : \n",
    "            self.speed = 0\n",
    "            print(u\"정지!\")\n",
    "        else :\n",
    "            self.speed -=15\n",
    "        print(u\"현재 속력 : \", self.speed)"
   ]
  },
  {
   "cell_type": "code",
   "execution_count": 50,
   "metadata": {},
   "outputs": [
    {
     "name": "stdout",
     "output_type": "stream",
     "text": [
      "현재 속력 :  15\n",
      "현재 속력 :  30\n",
      "현재 속력 :  45\n",
      "현재 속력 :  60\n",
      "현재 속력 :  75\n",
      "현재 속력 :  90\n",
      "최고속력 도달!\n",
      "현재 속력 :  100\n",
      "최고속력 도달!\n",
      "현재 속력 :  100\n",
      "현재 속력 :  85\n",
      "현재 속력 :  70\n",
      "현재 속력 :  55\n",
      "현재 속력 :  40\n",
      "현재 속력 :  25\n",
      "현재 속력 :  10\n"
     ]
    }
   ],
   "source": [
    "A = Truck()\n",
    "A.speed_up()\n",
    "A.speed_up()\n",
    "A.speed_up()\n",
    "A.speed_up()\n",
    "A.speed_up()\n",
    "A.speed_up()\n",
    "A.speed_up()\n",
    "A.speed_up()\n",
    "A.speed_down()\n",
    "A.speed_down()\n",
    "A.speed_down()\n",
    "A.speed_down()\n",
    "A.speed_down()\n",
    "A.speed_down()"
   ]
  },
  {
   "cell_type": "markdown",
   "metadata": {},
   "source": [
    "## 특수 메서드 (Special Methods)"
   ]
  },
  {
   "cell_type": "code",
   "execution_count": 54,
   "metadata": {},
   "outputs": [],
   "source": [
    "class Complex(object) :\n",
    "    def __init__(self, realpart, imagpart) :\n",
    "        self.r = realpart\n",
    "        self.i = imagpart"
   ]
  },
  {
   "cell_type": "code",
   "execution_count": 55,
   "metadata": {},
   "outputs": [
    {
     "data": {
      "text/plain": [
       "<__main__.Complex at 0x250ae4e3278>"
      ]
     },
     "execution_count": 55,
     "metadata": {},
     "output_type": "execute_result"
    }
   ],
   "source": [
    "c = Complex(1, 2)\n",
    "c"
   ]
  },
  {
   "cell_type": "code",
   "execution_count": 56,
   "metadata": {},
   "outputs": [
    {
     "data": {
      "text/plain": [
       "'<__main__.Complex object at 0x00000250AE4E3278>'"
      ]
     },
     "execution_count": 56,
     "metadata": {},
     "output_type": "execute_result"
    }
   ],
   "source": [
    "str(c)"
   ]
  },
  {
   "cell_type": "code",
   "execution_count": 65,
   "metadata": {},
   "outputs": [],
   "source": [
    "class Complex2(Complex) :\n",
    "    \n",
    "    def __repr__(self) :\n",
    "        return \"Complex : real = %f imag = %f\" % (self.r, self.i)\n",
    "    \n",
    "    def __str__(self) :\n",
    "        return \"[for str]\" + self.__repr__()"
   ]
  },
  {
   "cell_type": "code",
   "execution_count": 66,
   "metadata": {},
   "outputs": [
    {
     "data": {
      "text/plain": [
       "Complex : real = 1.000000 imag = 1.000000"
      ]
     },
     "execution_count": 66,
     "metadata": {},
     "output_type": "execute_result"
    }
   ],
   "source": [
    "c2 = Complex2(1, 1)\n",
    "c2"
   ]
  },
  {
   "cell_type": "code",
   "execution_count": 67,
   "metadata": {},
   "outputs": [
    {
     "data": {
      "text/plain": [
       "'[for str]Complex : real = 1.000000 imag = 1.000000'"
      ]
     },
     "execution_count": 67,
     "metadata": {},
     "output_type": "execute_result"
    }
   ],
   "source": [
    "str(c2)"
   ]
  },
  {
   "cell_type": "code",
   "execution_count": 68,
   "metadata": {},
   "outputs": [],
   "source": [
    "#__getitem__ 메서드\n",
    "\n",
    "class Complex3(Complex2) :\n",
    "    \n",
    "    def __getitem__(self, key) :\n",
    "        if key == \"r\" :\n",
    "            return self.r\n",
    "        if key == \"i\" :\n",
    "            return self.i"
   ]
  },
  {
   "cell_type": "code",
   "execution_count": 69,
   "metadata": {},
   "outputs": [
    {
     "data": {
      "text/plain": [
       "Complex : real = 1.000000 imag = 2.000000"
      ]
     },
     "execution_count": 69,
     "metadata": {},
     "output_type": "execute_result"
    }
   ],
   "source": [
    "c3 = Complex3(1, 2)\n",
    "c3"
   ]
  },
  {
   "cell_type": "code",
   "execution_count": 71,
   "metadata": {},
   "outputs": [
    {
     "data": {
      "text/plain": [
       "2"
      ]
     },
     "execution_count": 71,
     "metadata": {},
     "output_type": "execute_result"
    }
   ],
   "source": [
    "c3['i']"
   ]
  },
  {
   "cell_type": "markdown",
   "metadata": {},
   "source": [
    "# 파이썬 패키지 사용하기"
   ]
  },
  {
   "cell_type": "markdown",
   "metadata": {},
   "source": [
    "## 패키지 임포트"
   ]
  },
  {
   "cell_type": "code",
   "execution_count": 72,
   "metadata": {},
   "outputs": [],
   "source": [
    "import sklearn as sk"
   ]
  },
  {
   "cell_type": "code",
   "execution_count": 73,
   "metadata": {},
   "outputs": [
    {
     "data": {
      "text/plain": [
       "['_ASSUME_FINITE',\n",
       " '__SKLEARN_SETUP__',\n",
       " '__all__',\n",
       " '__builtins__',\n",
       " '__cached__',\n",
       " '__check_build',\n",
       " '__doc__',\n",
       " '__file__',\n",
       " '__loader__',\n",
       " '__name__',\n",
       " '__package__',\n",
       " '__path__',\n",
       " '__spec__',\n",
       " '__version__',\n",
       " '_contextmanager',\n",
       " 'base',\n",
       " 'clone',\n",
       " 'config_context',\n",
       " 'exceptions',\n",
       " 'externals',\n",
       " 'get_config',\n",
       " 'logger',\n",
       " 'logging',\n",
       " 'os',\n",
       " 're',\n",
       " 'set_config',\n",
       " 'setup_module',\n",
       " 'sys',\n",
       " 'utils',\n",
       " 'warnings']"
      ]
     },
     "execution_count": 73,
     "metadata": {},
     "output_type": "execute_result"
    }
   ],
   "source": [
    "dir(sk)"
   ]
  },
  {
   "cell_type": "markdown",
   "metadata": {},
   "source": [
    "## 선택적 임포트\n",
    "from 패키지이름 import 명령어1, 2, 3  \n",
    "선택적 임포트를 했을 때에는 패키지 이름과 마침표 없이 바로 명령어를 사용할 수 있다."
   ]
  },
  {
   "cell_type": "code",
   "execution_count": 74,
   "metadata": {},
   "outputs": [
    {
     "data": {
      "text/plain": [
       "array([0, 1, 2, 3, 4, 5, 6, 7, 8, 9])"
      ]
     },
     "execution_count": 74,
     "metadata": {},
     "output_type": "execute_result"
    }
   ],
   "source": [
    "from numpy import arange\n",
    "arange(10)"
   ]
  },
  {
   "cell_type": "markdown",
   "metadata": {},
   "source": [
    "## 패키지 확인 및 설치"
   ]
  }
 ],
 "metadata": {
  "kernelspec": {
   "display_name": "Python 3",
   "language": "python",
   "name": "python3"
  },
  "language_info": {
   "codemirror_mode": {
    "name": "ipython",
    "version": 3
   },
   "file_extension": ".py",
   "mimetype": "text/x-python",
   "name": "python",
   "nbconvert_exporter": "python",
   "pygments_lexer": "ipython3",
   "version": "3.6.4"
  }
 },
 "nbformat": 4,
 "nbformat_minor": 2
}
